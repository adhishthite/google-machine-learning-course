{
  "nbformat": 4,
  "nbformat_minor": 0,
  "metadata": {
    "colab": {
      "name": "notMNIST.ipynb",
      "version": "0.3.2",
      "views": {},
      "default_view": {},
      "provenance": [],
      "collapsed_sections": []
    },
    "kernelspec": {
      "name": "python3",
      "display_name": "Python 3"
    }
  },
  "cells": [
    {
      "metadata": {
        "id": "frqjEXKv2ZNy",
        "colab_type": "text"
      },
      "cell_type": "markdown",
      "source": [
        "# Logisitic Regression on notMNIST\n",
        "---\n",
        "*Created as a part of Google's **'Machine Learning to Deep Learning'** course on Udacity.*"
      ]
    },
    {
      "metadata": {
        "id": "K2z2WEt45EaP",
        "colab_type": "text"
      },
      "cell_type": "markdown",
      "source": [
        "## Step 1 - Downloading the data\n",
        "\n",
        "Performing the necessary imports."
      ]
    },
    {
      "metadata": {
        "id": "1qRHJSOlnn0b",
        "colab_type": "code",
        "colab": {
          "autoexec": {
            "startup": false,
            "wait_interval": 0
          },
          "output_extras": [
            {
              "item_id": 2
            }
          ],
          "base_uri": "https://localhost:8080/",
          "height": 85
        },
        "outputId": "3355a7b9-df4b-4400-d2dd-bbad4c856bcc",
        "executionInfo": {
          "status": "ok",
          "timestamp": 1520621835744,
          "user_tz": 300,
          "elapsed": 3223,
          "user": {
            "displayName": "Adhish Thite",
            "photoUrl": "//lh5.googleusercontent.com/-Mrh4dvnXd5c/AAAAAAAAAAI/AAAAAAAAX2M/O-s14hFhqXA/s50-c-k-no/photo.jpg",
            "userId": "105913067845686448749"
          }
        }
      },
      "cell_type": "code",
      "source": [
        "# These are all the modules we'll be using later. Make sure you can import them\n",
        "# before proceeding further.\n",
        "from __future__ import print_function\n",
        "import matplotlib.pyplot as plt\n",
        "\n",
        "import numpy as np\n",
        "import os\n",
        "import sys\n",
        "import tarfile\n",
        "from IPython.display import display, Image\n",
        "from scipy import ndimage\n",
        "from sklearn.linear_model import LogisticRegression\n",
        "from six.moves.urllib.request import urlretrieve\n",
        "from six.moves import cPickle as pickle\n",
        "\n",
        "!pip install imageio\n",
        "\n",
        "import imageio\n",
        "\n",
        "# Config the matlotlib backend as plotting inline in IPython\n",
        "%matplotlib inline"
      ],
      "execution_count": 1,
      "outputs": [
        {
          "output_type": "stream",
          "text": [
            "Requirement already satisfied: imageio in /usr/local/lib/python3.6/dist-packages\n",
            "Requirement already satisfied: pillow in /usr/local/lib/python3.6/dist-packages (from imageio)\n",
            "Requirement already satisfied: numpy in /usr/local/lib/python3.6/dist-packages (from imageio)\n",
            "Requirement already satisfied: olefile in /usr/local/lib/python3.6/dist-packages (from pillow->imageio)\n"
          ],
          "name": "stdout"
        }
      ]
    },
    {
      "metadata": {
        "id": "KAxID0lG64Ps",
        "colab_type": "text"
      },
      "cell_type": "markdown",
      "source": [
        "First, we'll download the dataset to our local machine.\n",
        "\n",
        "The data consists of characters rendered in a variety of fonts on a 28x28 image.\n",
        "\n",
        "The labels are limited to 'A' through 'J' (10 classes).\n",
        "\n",
        "The training set has about 500k and the testset 19000 labelled examples.\n",
        "\n",
        "Given these sizes, it should be possible to train models quickly on any machine."
      ]
    },
    {
      "metadata": {
        "id": "jIlxkrcZ6rb-",
        "colab_type": "code",
        "colab": {
          "autoexec": {
            "startup": false,
            "wait_interval": 0
          },
          "output_extras": [
            {
              "item_id": 1
            }
          ],
          "base_uri": "https://localhost:8080/",
          "height": 51
        },
        "outputId": "b7a7f7e7-c4d6-4859-f3ae-20ab4aba77d1",
        "executionInfo": {
          "status": "ok",
          "timestamp": 1520621836109,
          "user_tz": 300,
          "elapsed": 327,
          "user": {
            "displayName": "Adhish Thite",
            "photoUrl": "//lh5.googleusercontent.com/-Mrh4dvnXd5c/AAAAAAAAAAI/AAAAAAAAX2M/O-s14hFhqXA/s50-c-k-no/photo.jpg",
            "userId": "105913067845686448749"
          }
        }
      },
      "cell_type": "code",
      "source": [
        "url = 'http://commondatastorage.googleapis.com/books1000/'\n",
        "last_percent_reported = None\n",
        "data_root = '.'\n",
        "\n",
        "def download_progress_hook(count, blockSize, totalSize):\n",
        "  \"\"\"A hook to report the progress of a download. This is mostly intended for users with\n",
        "  slow internet connections. Reports every 1% change in download progress.\n",
        "  \"\"\"\n",
        "  global last_percent_reported\n",
        "  percent = int(count * blockSize * 100 / totalSize)\n",
        "\n",
        "  if last_percent_reported != percent:\n",
        "    if percent % 5 == 0:\n",
        "      sys.stdout.write(\"%s%%\" % percent)\n",
        "      sys.stdout.flush()\n",
        "    else:\n",
        "      sys.stdout.write(\".\")\n",
        "      sys.stdout.flush()\n",
        "      \n",
        "    last_percent_reported = percent\n",
        "        \n",
        "def maybe_download(filename, expected_bytes, force=False):\n",
        "  \"\"\"Download a file if not present, and make sure it's the right size.\"\"\"\n",
        "  if force or not os.path.exists(filename):\n",
        "    print('Attempting to download:', filename) \n",
        "    filename, _ = urlretrieve(url + filename, filename, reporthook=download_progress_hook)\n",
        "    print('\\nDownload Complete!')\n",
        "  statinfo = os.stat(filename)\n",
        "  if statinfo.st_size == expected_bytes:\n",
        "    print('Found and verified', filename)\n",
        "  else:\n",
        "    raise Exception(\n",
        "      'Failed to verify ' + filename + '. Can you get to it with a browser?')\n",
        "  return filename\n",
        "\n",
        "train_filename = maybe_download('notMNIST_large.tar.gz', 247336696)\n",
        "test_filename = maybe_download('notMNIST_small.tar.gz', 8458043)"
      ],
      "execution_count": 2,
      "outputs": [
        {
          "output_type": "stream",
          "text": [
            "Found and verified notMNIST_large.tar.gz\n",
            "Found and verified notMNIST_small.tar.gz\n"
          ],
          "name": "stdout"
        }
      ]
    },
    {
      "metadata": {
        "id": "XWvduIXOOsum",
        "colab_type": "text"
      },
      "cell_type": "markdown",
      "source": [
        "## Step 2 : Data Preparation\n",
        "\n",
        "Extracting the data from the TAR.GZ files.\n",
        "\n",
        "We get a set of directories from Ato J."
      ]
    },
    {
      "metadata": {
        "id": "V3UYDSRjn2IH",
        "colab_type": "code",
        "colab": {
          "autoexec": {
            "startup": false,
            "wait_interval": 0
          },
          "output_extras": [
            {
              "item_id": 1
            }
          ],
          "base_uri": "https://localhost:8080/",
          "height": 105
        },
        "outputId": "76c30f87-2c8d-4fa9-fc37-eeedde6befc5",
        "executionInfo": {
          "status": "ok",
          "timestamp": 1520621836677,
          "user_tz": 300,
          "elapsed": 331,
          "user": {
            "displayName": "Adhish Thite",
            "photoUrl": "//lh5.googleusercontent.com/-Mrh4dvnXd5c/AAAAAAAAAAI/AAAAAAAAX2M/O-s14hFhqXA/s50-c-k-no/photo.jpg",
            "userId": "105913067845686448749"
          }
        }
      },
      "cell_type": "code",
      "source": [
        "num_classes = 10\n",
        "np.random.seed(133)\n",
        "\n",
        "def maybe_extract(filename, force=False):\n",
        "  root = os.path.splitext(os.path.splitext(filename)[0])[0]  # remove .tar.gz\n",
        "  if os.path.isdir(root) and not force:\n",
        "    # You may override by setting force=True.\n",
        "    print('%s already present - Skipping extraction of %s.' % (root, filename))\n",
        "  else:\n",
        "    print('Extracting data for %s. This may take a while. Please wait.' % root)\n",
        "    tar = tarfile.open(filename)\n",
        "    sys.stdout.flush()\n",
        "    tar.extractall(data_root)\n",
        "    tar.close()\n",
        "  data_folders = [\n",
        "    os.path.join(root, d) for d in sorted(os.listdir(root))\n",
        "    if os.path.isdir(os.path.join(root, d))]\n",
        "  if len(data_folders) != num_classes:\n",
        "    raise Exception(\n",
        "      'Expected %d folders, one per class. Found %d instead.' % (\n",
        "        num_classes, len(data_folders)))\n",
        "  print(data_folders)\n",
        "  return data_folders\n",
        "  \n",
        "train_folders = maybe_extract(train_filename)\n",
        "test_folders = maybe_extract(test_filename)"
      ],
      "execution_count": 3,
      "outputs": [
        {
          "output_type": "stream",
          "text": [
            "notMNIST_large already present - Skipping extraction of notMNIST_large.tar.gz.\n",
            "['notMNIST_large/A', 'notMNIST_large/B', 'notMNIST_large/C', 'notMNIST_large/D', 'notMNIST_large/E', 'notMNIST_large/F', 'notMNIST_large/G', 'notMNIST_large/H', 'notMNIST_large/I', 'notMNIST_large/J']\n",
            "notMNIST_small already present - Skipping extraction of notMNIST_small.tar.gz.\n",
            "['notMNIST_small/A', 'notMNIST_small/B', 'notMNIST_small/C', 'notMNIST_small/D', 'notMNIST_small/E', 'notMNIST_small/F', 'notMNIST_small/G', 'notMNIST_small/H', 'notMNIST_small/I', 'notMNIST_small/J']\n"
          ],
          "name": "stdout"
        }
      ]
    },
    {
      "metadata": {
        "id": "5LuroHPqBdb4",
        "colab_type": "text"
      },
      "cell_type": "markdown",
      "source": [
        "### Problem 1\n",
        "\n",
        "Let's take a peek at some of the data to make sure it looks sensible. Each exemplar should be an image of a character A through J rendered in a different font. Display a sample of the images that we just downloaded. Hint: you can use the package IPython.display.\n",
        "\n",
        "---"
      ]
    },
    {
      "metadata": {
        "id": "1GcDtybJpDLw",
        "colab_type": "code",
        "colab": {
          "autoexec": {
            "startup": false,
            "wait_interval": 0
          },
          "output_extras": [
            {
              "item_id": 1
            },
            {
              "item_id": 2
            },
            {
              "item_id": 3
            },
            {
              "item_id": 4
            },
            {
              "item_id": 5
            },
            {
              "item_id": 6
            },
            {
              "item_id": 7
            },
            {
              "item_id": 8
            },
            {
              "item_id": 9
            },
            {
              "item_id": 10
            },
            {
              "item_id": 12
            },
            {
              "item_id": 13
            },
            {
              "item_id": 14
            },
            {
              "item_id": 15
            },
            {
              "item_id": 16
            },
            {
              "item_id": 17
            },
            {
              "item_id": 18
            },
            {
              "item_id": 19
            },
            {
              "item_id": 20
            },
            {
              "item_id": 21
            },
            {
              "item_id": 22
            }
          ],
          "base_uri": "https://localhost:8080/",
          "height": 807
        },
        "outputId": "8d76b25b-376d-4345-d8fd-b95005d796de",
        "executionInfo": {
          "status": "ok",
          "timestamp": 1520621837573,
          "user_tz": 300,
          "elapsed": 730,
          "user": {
            "displayName": "Adhish Thite",
            "photoUrl": "//lh5.googleusercontent.com/-Mrh4dvnXd5c/AAAAAAAAAAI/AAAAAAAAX2M/O-s14hFhqXA/s50-c-k-no/photo.jpg",
            "userId": "105913067845686448749"
          }
        }
      },
      "cell_type": "code",
      "source": [
        "basedir = 'notMNIST_large'\n",
        "for label in os.listdir(basedir):\n",
        "    if 'pickle' in label:\n",
        "        continue\n",
        "    imgname = os.listdir(basedir + '/' + label)[0]\n",
        "    img = Image(basedir + '/' + label + '/' + imgname)\n",
        "    print(label)\n",
        "    display(img)\n",
        "    print(\"\\n\")"
      ],
      "execution_count": 4,
      "outputs": [
        {
          "output_type": "stream",
          "text": [
            "D\n"
          ],
          "name": "stdout"
        },
        {
          "output_type": "display_data",
          "data": {
            "image/png": "[encoded data removed]",
            "text/plain": [
              "<IPython.core.display.Image object>"
            ]
          },
          "metadata": {
            "tags": []
          }
        },
        {
          "output_type": "stream",
          "text": [
            "\n",
            "\n",
            "G\n"
          ],
          "name": "stdout"
        },
        {
          "output_type": "display_data",
          "data": {
            "image/png": "[encoded data removed]",
            "text/plain": [
              "<IPython.core.display.Image object>"
            ]
          },
          "metadata": {
            "tags": []
          }
        },
        {
          "output_type": "stream",
          "text": [
            "\n",
            "\n",
            "I\n"
          ],
          "name": "stdout"
        },
        {
          "output_type": "display_data",
          "data": {
            "image/png": "[encoded data removed]",
            "text/plain": [
              "<IPython.core.display.Image object>"
            ]
          },
          "metadata": {
            "tags": []
          }
        },
        {
          "output_type": "stream",
          "text": [
            "\n",
            "\n",
            "J\n"
          ],
          "name": "stdout"
        },
        {
          "output_type": "display_data",
          "data": {
            "image/png": "[encoded data removed]",
            "text/plain": [
              "<IPython.core.display.Image object>"
            ]
          },
          "metadata": {
            "tags": []
          }
        },
        {
          "output_type": "stream",
          "text": [
            "\n",
            "\n",
            "B\n"
          ],
          "name": "stdout"
        },
        {
          "output_type": "display_data",
          "data": {
            "image/png": "[encoded data removed]",
            "text/plain": [
              "<IPython.core.display.Image object>"
            ]
          },
          "metadata": {
            "tags": []
          }
        },
        {
          "output_type": "stream",
          "text": [
            "\n",
            "\n",
            "C\n"
          ],
          "name": "stdout"
        },
        {
          "output_type": "display_data",
          "data": {
            "image/png": "[encoded data removed]",
            "text/plain": [
              "<IPython.core.display.Image object>"
            ]
          },
          "metadata": {
            "tags": []
          }
        },
        {
          "output_type": "stream",
          "text": [
            "\n",
            "\n",
            "A\n"
          ],
          "name": "stdout"
        },
        {
          "output_type": "display_data",
          "data": {
            "image/png": "[encoded data removed]",
            "text/plain": [
              "<IPython.core.display.Image object>"
            ]
          },
          "metadata": {
            "tags": []
          }
        },
        {
          "output_type": "stream",
          "text": [
            "\n",
            "\n",
            "H\n"
          ],
          "name": "stdout"
        },
        {
          "output_type": "display_data",
          "data": {
            "image/png": "[encoded data removed]",
            "text/plain": [
              "<IPython.core.display.Image object>"
            ]
          },
          "metadata": {
            "tags": []
          }
        },
        {
          "output_type": "stream",
          "text": [
            "\n",
            "\n",
            "E\n"
          ],
          "name": "stdout"
        },
        {
          "output_type": "display_data",
          "data": {
            "image/png": "[encoded data removed]",
            "text/plain": [
              "<IPython.core.display.Image object>"
            ]
          },
          "metadata": {
            "tags": []
          }
        },
        {
          "output_type": "stream",
          "text": [
            "\n",
            "\n",
            "F\n"
          ],
          "name": "stdout"
        },
        {
          "output_type": "display_data",
          "data": {
            "image/png": "[encoded data removed]",
            "text/plain": [
              "<IPython.core.display.Image object>"
            ]
          },
          "metadata": {
            "tags": []
          }
        },
        {
          "output_type": "stream",
          "text": [
            "\n",
            "\n"
          ],
          "name": "stdout"
        }
      ]
    },
    {
      "metadata": {
        "id": "44jJivRrCs-v",
        "colab_type": "text"
      },
      "cell_type": "markdown",
      "source": [
        "## Step 3 : Dataset Creation\n",
        "\n",
        "Now let's load the data in a more manageable format. Since, depending on your computer setup you might not be able to fit it all in memory, we'll load each class into a separate dataset, store them on disk and curate them independently. Later we'll merge them into a single dataset of manageable size.\n",
        "\n",
        "We'll convert the entire dataset into a 3D array (image index, x, y) of floating point values, normalized to have approximately zero mean and standard deviation ~0.5 to make training easier down the road.\n",
        "\n",
        "A few images might not be readable, we'll just skip them."
      ]
    },
    {
      "metadata": {
        "id": "a-tlrnJgqiEx",
        "colab_type": "code",
        "colab": {
          "autoexec": {
            "startup": false,
            "wait_interval": 0
          },
          "output_extras": [
            {
              "item_id": 1
            }
          ],
          "base_uri": "https://localhost:8080/",
          "height": 357
        },
        "outputId": "a480a3fa-56bb-4b10-b599-19b64b192dd5",
        "executionInfo": {
          "status": "ok",
          "timestamp": 1520621837995,
          "user_tz": 300,
          "elapsed": 391,
          "user": {
            "displayName": "Adhish Thite",
            "photoUrl": "//lh5.googleusercontent.com/-Mrh4dvnXd5c/AAAAAAAAAAI/AAAAAAAAX2M/O-s14hFhqXA/s50-c-k-no/photo.jpg",
            "userId": "105913067845686448749"
          }
        }
      },
      "cell_type": "code",
      "source": [
        "image_size = 28  # Pixel width and height.\n",
        "pixel_depth = 255.0  # Number of levels per pixel.\n",
        "\n",
        "def load_letter(folder, min_num_images):\n",
        "  \"\"\"Load the data for a single letter label.\"\"\"\n",
        "  image_files = os.listdir(folder)\n",
        "  dataset = np.ndarray(shape=(len(image_files), image_size, image_size),\n",
        "                         dtype=np.float32)\n",
        "  print(folder)\n",
        "  num_images = 0\n",
        "  for image in image_files:\n",
        "    image_file = os.path.join(folder, image)\n",
        "    try:\n",
        "      image_data = (imageio.imread(image_file).astype(float) - \n",
        "                    pixel_depth / 2) / pixel_depth\n",
        "      if image_data.shape != (image_size, image_size):\n",
        "        raise Exception('Unexpected image shape: %s' % str(image_data.shape))\n",
        "      dataset[num_images, :, :] = image_data\n",
        "      num_images = num_images + 1\n",
        "    except (IOError, ValueError) as e:\n",
        "      print('Could not read:', image_file, ':', e, '- it\\'s ok, skipping.')\n",
        "    \n",
        "  dataset = dataset[0:num_images, :, :]\n",
        "  if num_images < min_num_images:\n",
        "    raise Exception('Many fewer images than expected: %d < %d' %\n",
        "                    (num_images, min_num_images))\n",
        "    \n",
        "  print('Full dataset tensor:', dataset.shape)\n",
        "  print('Mean:', np.mean(dataset))\n",
        "  print('Standard deviation:', np.std(dataset))\n",
        "  return dataset\n",
        "        \n",
        "def maybe_pickle(data_folders, min_num_images_per_class, force=False):\n",
        "  dataset_names = []\n",
        "  for folder in data_folders:\n",
        "    set_filename = folder + '.pickle'\n",
        "    dataset_names.append(set_filename)\n",
        "    if os.path.exists(set_filename) and not force:\n",
        "      # You may override by setting force=True.\n",
        "      print('%s already present - Skipping pickling.' % set_filename)\n",
        "    else:\n",
        "      print('Pickling %s.' % set_filename)\n",
        "      dataset = load_letter(folder, min_num_images_per_class)\n",
        "      try:\n",
        "        with open(set_filename, 'wb') as f:\n",
        "          pickle.dump(dataset, f, pickle.HIGHEST_PROTOCOL)\n",
        "      except Exception as e:\n",
        "        print('Unable to save data to', set_filename, ':', e)\n",
        "  \n",
        "  return dataset_names\n",
        "\n",
        "train_datasets = maybe_pickle(train_folders, 45000)\n",
        "test_datasets = maybe_pickle(test_folders, 1800)"
      ],
      "execution_count": 5,
      "outputs": [
        {
          "output_type": "stream",
          "text": [
            "notMNIST_large/A.pickle already present - Skipping pickling.\n",
            "notMNIST_large/B.pickle already present - Skipping pickling.\n",
            "notMNIST_large/C.pickle already present - Skipping pickling.\n",
            "notMNIST_large/D.pickle already present - Skipping pickling.\n",
            "notMNIST_large/E.pickle already present - Skipping pickling.\n",
            "notMNIST_large/F.pickle already present - Skipping pickling.\n",
            "notMNIST_large/G.pickle already present - Skipping pickling.\n",
            "notMNIST_large/H.pickle already present - Skipping pickling.\n",
            "notMNIST_large/I.pickle already present - Skipping pickling.\n",
            "notMNIST_large/J.pickle already present - Skipping pickling.\n",
            "notMNIST_small/A.pickle already present - Skipping pickling.\n",
            "notMNIST_small/B.pickle already present - Skipping pickling.\n",
            "notMNIST_small/C.pickle already present - Skipping pickling.\n",
            "notMNIST_small/D.pickle already present - Skipping pickling.\n",
            "notMNIST_small/E.pickle already present - Skipping pickling.\n",
            "notMNIST_small/F.pickle already present - Skipping pickling.\n",
            "notMNIST_small/G.pickle already present - Skipping pickling.\n",
            "notMNIST_small/H.pickle already present - Skipping pickling.\n",
            "notMNIST_small/I.pickle already present - Skipping pickling.\n",
            "notMNIST_small/J.pickle already present - Skipping pickling.\n"
          ],
          "name": "stdout"
        }
      ]
    },
    {
      "metadata": {
        "id": "6J7qTh46ENA7",
        "colab_type": "text"
      },
      "cell_type": "markdown",
      "source": [
        "### Problem 2\n",
        "\n",
        "Let's verify that the data still looks good. Displaying a sample of the labels and images from the ndarray. Hint: you can use matplotlib.pyplot."
      ]
    },
    {
      "metadata": {
        "id": "k4d4xbdfroD6",
        "colab_type": "code",
        "colab": {
          "autoexec": {
            "startup": false,
            "wait_interval": 0
          },
          "output_extras": [
            {
              "item_id": 1
            },
            {
              "item_id": 2
            },
            {
              "item_id": 3
            },
            {
              "item_id": 4
            },
            {
              "item_id": 5
            },
            {
              "item_id": 6
            },
            {
              "item_id": 7
            },
            {
              "item_id": 8
            },
            {
              "item_id": 9
            },
            {
              "item_id": 10
            }
          ],
          "base_uri": "https://localhost:8080/",
          "height": 2497
        },
        "outputId": "cb620c98-bf14-4c4a-b9e0-36224b63e9e8",
        "executionInfo": {
          "status": "ok",
          "timestamp": 1520621870777,
          "user_tz": 300,
          "elapsed": 32631,
          "user": {
            "displayName": "Adhish Thite",
            "photoUrl": "//lh5.googleusercontent.com/-Mrh4dvnXd5c/AAAAAAAAAAI/AAAAAAAAX2M/O-s14hFhqXA/s50-c-k-no/photo.jpg",
            "userId": "105913067845686448749"
          }
        }
      },
      "cell_type": "code",
      "source": [
        "basedir = 'notMNIST_large'\n",
        "for label in os.listdir(basedir):\n",
        "    if 'pickle' not in label:\n",
        "        continue\n",
        "    dataset = pickle.load(open(basedir + '/' + label, \"rb\" ))\n",
        "    plt.imshow(dataset[0])\n",
        "    plt.show()"
      ],
      "execution_count": 6,
      "outputs": [
        {
          "output_type": "display_data",
          "data": {
            "image/png": "[encoded data removed]",
            "text/plain": [
              "<matplotlib.figure.Figure at 0x7f764b30bd30>"
            ]
          },
          "metadata": {
            "tags": []
          }
        },
        {
          "output_type": "display_data",
          "data": {
            "image/png": "[encoded data removed]",
            "text/plain": [
              "<matplotlib.figure.Figure at 0x7f764b268b00>"
            ]
          },
          "metadata": {
            "tags": []
          }
        },
        {
          "output_type": "display_data",
          "data": {
            "image/png": "[encoded data removed]",
            "text/plain": [
              "<matplotlib.figure.Figure at 0x7f764922e5f8>"
            ]
          },
          "metadata": {
            "tags": []
          }
        },
        {
          "output_type": "display_data",
          "data": {
            "image/png": "[encoded data removed]",
            "text/plain": [
              "<matplotlib.figure.Figure at 0x7f76491d2dd8>"
            ]
          },
          "metadata": {
            "tags": []
          }
        },
        {
          "output_type": "display_data",
          "data": {
            "image/png": "[encoded data removed]",
            "text/plain": [
              "<matplotlib.figure.Figure at 0x7f764912ddd8>"
            ]
          },
          "metadata": {
            "tags": []
          }
        },
        {
          "output_type": "display_data",
          "data": {
            "image/png": "[encoded data removed]",
            "text/plain": [
              "<matplotlib.figure.Figure at 0x7f76491efeb8>"
            ]
          },
          "metadata": {
            "tags": []
          }
        },
        {
          "output_type": "display_data",
          "data": {
            "image/png": "[encoded data removed]",
            "text/plain": [
              "<matplotlib.figure.Figure at 0x7f7649056390>"
            ]
          },
          "metadata": {
            "tags": []
          }
        },
        {
          "output_type": "display_data",
          "data": {
            "image/png": "[encoded data removed]",
            "text/plain": [
              "<matplotlib.figure.Figure at 0x7f7649032780>"
            ]
          },
          "metadata": {
            "tags": []
          }
        },
        {
          "output_type": "display_data",
          "data": {
            "image/png": "[encoded data removed]",
            "text/plain": [
              "<matplotlib.figure.Figure at 0x7f764ef62550>"
            ]
          },
          "metadata": {
            "tags": []
          }
        },
        {
          "output_type": "display_data",
          "data": {
            "image/png": "[encoded data removed]",
            "text/plain": [
              "<matplotlib.figure.Figure at 0x7f766ef43048>"
            ]
          },
          "metadata": {
            "tags": []
          }
        }
      ]
    },
    {
      "metadata": {
        "id": "r5rdkrDFs-WR",
        "colab_type": "code",
        "colab": {
          "autoexec": {
            "startup": false,
            "wait_interval": 0
          },
          "output_extras": [
            {
              "item_id": 1
            },
            {
              "item_id": 2
            },
            {
              "item_id": 3
            },
            {
              "item_id": 4
            },
            {
              "item_id": 5
            },
            {
              "item_id": 6
            },
            {
              "item_id": 7
            },
            {
              "item_id": 8
            },
            {
              "item_id": 9
            },
            {
              "item_id": 10
            }
          ],
          "base_uri": "https://localhost:8080/",
          "height": 2497
        },
        "outputId": "2ef34aea-76b2-4220-e01f-5c6159afbb15",
        "executionInfo": {
          "status": "ok",
          "timestamp": 1520621872634,
          "user_tz": 300,
          "elapsed": 1829,
          "user": {
            "displayName": "Adhish Thite",
            "photoUrl": "//lh5.googleusercontent.com/-Mrh4dvnXd5c/AAAAAAAAAAI/AAAAAAAAX2M/O-s14hFhqXA/s50-c-k-no/photo.jpg",
            "userId": "105913067845686448749"
          }
        }
      },
      "cell_type": "code",
      "source": [
        "basedir = 'notMNIST_small'\n",
        "for label in os.listdir(basedir):\n",
        "    if 'pickle' not in label:\n",
        "        continue\n",
        "    dataset = pickle.load(open(basedir + '/' + label, \"rb\" ))\n",
        "    plt.imshow(dataset[0])\n",
        "    plt.show()"
      ],
      "execution_count": 7,
      "outputs": [
        {
          "output_type": "display_data",
          "data": {
            "image/png": "[encoded data removed]",
            "text/plain": [
              "<matplotlib.figure.Figure at 0x7f764b2e10b8>"
            ]
          },
          "metadata": {
            "tags": []
          }
        },
        {
          "output_type": "display_data",
          "data": {
            "image/png": "[encoded data removed]",
            "text/plain": [
              "<matplotlib.figure.Figure at 0x7f76490cbf98>"
            ]
          },
          "metadata": {
            "tags": []
          }
        },
        {
          "output_type": "display_data",
          "data": {
            "image/png": "[encoded data removed]",
            "text/plain": [
              "<matplotlib.figure.Figure at 0x7f76490ef6d8>"
            ]
          },
          "metadata": {
            "tags": []
          }
        },
        {
          "output_type": "display_data",
          "data": {
            "image/png": "[encoded data removed]",
            "text/plain": [
              "<matplotlib.figure.Figure at 0x7f76491265f8>"
            ]
          },
          "metadata": {
            "tags": []
          }
        },
        {
          "output_type": "display_data",
          "data": {
            "image/png": "[encoded data removed]",
            "text/plain": [
              "<matplotlib.figure.Figure at 0x7f76492385f8>"
            ]
          },
          "metadata": {
            "tags": []
          }
        },
        {
          "output_type": "display_data",
          "data": {
            "image/png": "[encoded data removed]",
            "text/plain": [
              "<matplotlib.figure.Figure at 0x7f7648f9b630>"
            ]
          },
          "metadata": {
            "tags": []
          }
        },
        {
          "output_type": "display_data",
          "data": {
            "image/png": "[encoded data removed]",
            "text/plain": [
              "<matplotlib.figure.Figure at 0x7f7648f65668>"
            ]
          },
          "metadata": {
            "tags": []
          }
        },
        {
          "output_type": "display_data",
          "data": {
            "image/png": "[encoded data removed]",
            "text/plain": [
              "<matplotlib.figure.Figure at 0x7f7648f36710>"
            ]
          },
          "metadata": {
            "tags": []
          }
        },
        {
          "output_type": "display_data",
          "data": {
            "image/png": "[encoded data removed]",
            "text/plain": [
              "<matplotlib.figure.Figure at 0x7f7648eb6518>"
            ]
          },
          "metadata": {
            "tags": []
          }
        },
        {
          "output_type": "display_data",
          "data": {
            "image/png": "[encoded data removed]",
            "text/plain": [
              "<matplotlib.figure.Figure at 0x7f7648f11828>"
            ]
          },
          "metadata": {
            "tags": []
          }
        }
      ]
    },
    {
      "metadata": {
        "id": "GXs8SBXsEg2I",
        "colab_type": "text"
      },
      "cell_type": "markdown",
      "source": [
        "### Problem 3\n",
        "\n",
        "Another check: we expect the data to be balanced across classes. Verify that."
      ]
    },
    {
      "metadata": {
        "id": "1yK4kEAAtX7G",
        "colab_type": "code",
        "colab": {
          "autoexec": {
            "startup": false,
            "wait_interval": 0
          },
          "output_extras": [
            {
              "item_id": 8
            }
          ],
          "base_uri": "https://localhost:8080/",
          "height": 697
        },
        "outputId": "e95dcfb4-213f-4001-dc6a-daa093c49a49",
        "executionInfo": {
          "status": "ok",
          "timestamp": 1520621875138,
          "user_tz": 300,
          "elapsed": 2361,
          "user": {
            "displayName": "Adhish Thite",
            "photoUrl": "//lh5.googleusercontent.com/-Mrh4dvnXd5c/AAAAAAAAAAI/AAAAAAAAX2M/O-s14hFhqXA/s50-c-k-no/photo.jpg",
            "userId": "105913067845686448749"
          }
        }
      },
      "cell_type": "code",
      "source": [
        "basedir = 'notMNIST_large'\n",
        "for label in os.listdir(basedir):\n",
        "    if 'pickle' not in label:\n",
        "        continue\n",
        "    dataset = pickle.load(open(basedir + '/' + label, \"rb\" ))\n",
        "    print(label)\n",
        "\n",
        "    print('Mean', dataset.mean())\n",
        "    print('Std', dataset.std())\n",
        "    print('-' * 20)"
      ],
      "execution_count": 8,
      "outputs": [
        {
          "output_type": "stream",
          "text": [
            "B.pickle\n",
            "Mean -0.0075630266\n",
            "Std 0.45449144\n",
            "--------------------\n",
            "H.pickle\n",
            "Mean -0.06852213\n",
            "Std 0.45423138\n",
            "--------------------\n",
            "J.pickle\n",
            "Mean -0.15335824\n",
            "Std 0.4436562\n",
            "--------------------\n",
            "A.pickle\n",
            "Mean -0.12825017\n",
            "Std 0.44312072\n",
            "--------------------\n",
            "G.pickle\n",
            "Mean -0.0945816\n",
            "Std 0.44624007\n",
            "--------------------\n",
            "E.pickle\n",
            "Mean -0.069898985\n",
            "Std 0.45294154\n",
            "--------------------\n",
            "D.pickle\n",
            "Mean -0.057367794\n",
            "Std 0.4556475\n",
            "--------------------\n",
            "I.pickle\n",
            "Mean 0.030786186\n",
            "Std 0.46889836\n",
            "--------------------\n",
            "C.pickle\n",
            "Mean -0.14225799\n",
            "Std 0.439806\n",
            "--------------------\n",
            "F.pickle\n",
            "Mean -0.12558305\n",
            "Std 0.44708934\n",
            "--------------------\n"
          ],
          "name": "stdout"
        }
      ]
    },
    {
      "metadata": {
        "id": "CCM66DAnE8Pa",
        "colab_type": "text"
      },
      "cell_type": "markdown",
      "source": [
        "---\n",
        "\n",
        "Merge and prune the training data as needed. Depending on your computer setup, you might not be able to fit it all in memory, and you can tune train_size as needed. The labels will be stored into a separate array of integers 0 through 9.\n",
        "\n",
        "Also create a validation dataset for hyperparameter tuning."
      ]
    },
    {
      "metadata": {
        "id": "ahcWaus9tfyL",
        "colab_type": "code",
        "colab": {
          "autoexec": {
            "startup": false,
            "wait_interval": 0
          },
          "output_extras": [
            {
              "item_id": 1
            }
          ],
          "base_uri": "https://localhost:8080/",
          "height": 68
        },
        "outputId": "a5f3db4c-2220-4d43-a74c-74dfb8e5f0eb",
        "executionInfo": {
          "status": "ok",
          "timestamp": 1520621879014,
          "user_tz": 300,
          "elapsed": 3802,
          "user": {
            "displayName": "Adhish Thite",
            "photoUrl": "//lh5.googleusercontent.com/-Mrh4dvnXd5c/AAAAAAAAAAI/AAAAAAAAX2M/O-s14hFhqXA/s50-c-k-no/photo.jpg",
            "userId": "105913067845686448749"
          }
        }
      },
      "cell_type": "code",
      "source": [
        "def make_arrays(nb_rows, img_size):\n",
        "  if nb_rows:\n",
        "    dataset = np.ndarray((nb_rows, img_size, img_size), dtype=np.float32)\n",
        "    labels = np.ndarray(nb_rows, dtype=np.int32)\n",
        "  else:\n",
        "    dataset, labels = None, None\n",
        "  return dataset, labels\n",
        "\n",
        "def merge_datasets(pickle_files, train_size, valid_size=0):\n",
        "  num_classes = len(pickle_files)\n",
        "  valid_dataset, valid_labels = make_arrays(valid_size, image_size)\n",
        "  train_dataset, train_labels = make_arrays(train_size, image_size)\n",
        "  vsize_per_class = valid_size // num_classes\n",
        "  tsize_per_class = train_size // num_classes\n",
        "    \n",
        "  start_v, start_t = 0, 0\n",
        "  end_v, end_t = vsize_per_class, tsize_per_class\n",
        "  end_l = vsize_per_class+tsize_per_class\n",
        "  for label, pickle_file in enumerate(pickle_files):       \n",
        "    try:\n",
        "      with open(pickle_file, 'rb') as f:\n",
        "        letter_set = pickle.load(f)\n",
        "        # let's shuffle the letters to have random validation and training set\n",
        "        np.random.shuffle(letter_set)\n",
        "        if valid_dataset is not None:\n",
        "          valid_letter = letter_set[:vsize_per_class, :, :]\n",
        "          valid_dataset[start_v:end_v, :, :] = valid_letter\n",
        "          valid_labels[start_v:end_v] = label\n",
        "          start_v += vsize_per_class\n",
        "          end_v += vsize_per_class\n",
        "                    \n",
        "        train_letter = letter_set[vsize_per_class:end_l, :, :]\n",
        "        train_dataset[start_t:end_t, :, :] = train_letter\n",
        "        train_labels[start_t:end_t] = label\n",
        "        start_t += tsize_per_class\n",
        "        end_t += tsize_per_class\n",
        "    except Exception as e:\n",
        "      print('Unable to process data from', pickle_file, ':', e)\n",
        "      raise\n",
        "    \n",
        "  return valid_dataset, valid_labels, train_dataset, train_labels\n",
        "            \n",
        "            \n",
        "train_size = 200000\n",
        "valid_size = 10000\n",
        "test_size = 10000\n",
        "\n",
        "valid_dataset, valid_labels, train_dataset, train_labels = merge_datasets(\n",
        "  train_datasets, train_size, valid_size)\n",
        "_, _, test_dataset, test_labels = merge_datasets(test_datasets, test_size)\n",
        "\n",
        "print('Training:', train_dataset.shape, train_labels.shape)\n",
        "print('Validation:', valid_dataset.shape, valid_labels.shape)\n",
        "print('Testing:', test_dataset.shape, test_labels.shape)"
      ],
      "execution_count": 9,
      "outputs": [
        {
          "output_type": "stream",
          "text": [
            "Training: (200000, 28, 28) (200000,)\n",
            "Validation: (10000, 28, 28) (10000,)\n",
            "Testing: (10000, 28, 28) (10000,)\n"
          ],
          "name": "stdout"
        }
      ]
    },
    {
      "metadata": {
        "id": "ag826ab6FKdP",
        "colab_type": "text"
      },
      "cell_type": "markdown",
      "source": [
        "Next, we'll randomize the data. It's important to have the labels well shuffled for the training and test distributions to match."
      ]
    },
    {
      "metadata": {
        "id": "D_sWAJyHtj_E",
        "colab_type": "code",
        "colab": {
          "autoexec": {
            "startup": false,
            "wait_interval": 0
          }
        }
      },
      "cell_type": "code",
      "source": [
        "def randomize(dataset, labels):\n",
        "  permutation = np.random.permutation(labels.shape[0])\n",
        "  shuffled_dataset = dataset[permutation,:,:]\n",
        "  shuffled_labels = labels[permutation]\n",
        "  return shuffled_dataset, shuffled_labels\n",
        "train_dataset, train_labels = randomize(train_dataset, train_labels)\n",
        "test_dataset, test_labels = randomize(test_dataset, test_labels)\n",
        "valid_dataset, valid_labels = randomize(valid_dataset, valid_labels)"
      ],
      "execution_count": 0,
      "outputs": []
    },
    {
      "metadata": {
        "id": "rWIiYgO0FRIA",
        "colab_type": "text"
      },
      "cell_type": "markdown",
      "source": [
        "### Problem 4\n",
        "\n",
        "Convince yourself that the data is still good after shuffling!"
      ]
    },
    {
      "metadata": {
        "id": "BV447FY7tpci",
        "colab_type": "code",
        "colab": {
          "autoexec": {
            "startup": false,
            "wait_interval": 0
          },
          "output_extras": [
            {
              "item_id": 2
            }
          ],
          "base_uri": "https://localhost:8080/",
          "height": 170
        },
        "outputId": "d62a69f8-8320-4076-ae97-eee515f4736a",
        "executionInfo": {
          "status": "ok",
          "timestamp": 1520621881106,
          "user_tz": 300,
          "elapsed": 898,
          "user": {
            "displayName": "Adhish Thite",
            "photoUrl": "//lh5.googleusercontent.com/-Mrh4dvnXd5c/AAAAAAAAAAI/AAAAAAAAX2M/O-s14hFhqXA/s50-c-k-no/photo.jpg",
            "userId": "105913067845686448749"
          }
        }
      },
      "cell_type": "code",
      "source": [
        "# check same mean and std for datasets\n",
        "print('Train mean', train_dataset.mean())\n",
        "print('Train std', train_dataset.std())\n",
        "print('-' * 20)\n",
        "\n",
        "print('Test mean', test_dataset.mean())\n",
        "print('Test std', test_dataset.std())\n",
        "print('-' * 20)\n",
        "\n",
        "print('Valid mean', valid_dataset.mean())\n",
        "print('Valid std', valid_dataset.std())\n",
        "print('-' * 20)"
      ],
      "execution_count": 11,
      "outputs": [
        {
          "output_type": "stream",
          "text": [
            "Train mean -0.08148088\n",
            "Train std 0.45434782\n",
            "--------------------\n",
            "Test mean -0.07608226\n",
            "Test std 0.45821354\n",
            "--------------------\n",
            "Valid mean -0.08192056\n",
            "Valid std 0.45421395\n",
            "--------------------\n"
          ],
          "name": "stdout"
        }
      ]
    },
    {
      "metadata": {
        "id": "0WRjmCvBF50l",
        "colab_type": "text"
      },
      "cell_type": "markdown",
      "source": [
        "Visualizing the data"
      ]
    },
    {
      "metadata": {
        "id": "DA6xRnzHF1YA",
        "colab_type": "code",
        "colab": {
          "autoexec": {
            "startup": false,
            "wait_interval": 0
          },
          "output_extras": [
            {
              "item_id": 1
            },
            {
              "item_id": 2
            },
            {
              "item_id": 3
            },
            {
              "item_id": 4
            },
            {
              "item_id": 5
            },
            {
              "item_id": 6
            },
            {
              "item_id": 7
            },
            {
              "item_id": 8
            },
            {
              "item_id": 9
            },
            {
              "item_id": 10
            },
            {
              "item_id": 11
            },
            {
              "item_id": 12
            },
            {
              "item_id": 13
            },
            {
              "item_id": 14
            },
            {
              "item_id": 15
            },
            {
              "item_id": 16
            },
            {
              "item_id": 17
            },
            {
              "item_id": 18
            }
          ],
          "base_uri": "https://localhost:8080/",
          "height": 3839
        },
        "outputId": "5108c380-412b-410a-e207-533904509ce9",
        "executionInfo": {
          "status": "ok",
          "timestamp": 1520621884412,
          "user_tz": 300,
          "elapsed": 3228,
          "user": {
            "displayName": "Adhish Thite",
            "photoUrl": "//lh5.googleusercontent.com/-Mrh4dvnXd5c/AAAAAAAAAAI/AAAAAAAAX2M/O-s14hFhqXA/s50-c-k-no/photo.jpg",
            "userId": "105913067845686448749"
          }
        }
      },
      "cell_type": "code",
      "source": [
        "range_i = 5\n",
        "\n",
        "print('\\nTRAINING DATA')\n",
        "for i in range(range_i):\n",
        "    plt.imshow(train_dataset[i])\n",
        "    plt.show()\n",
        "    \n",
        "print('\\nTESTING DATA')\n",
        "for i in range(range_i):\n",
        "    plt.imshow(test_dataset[i])\n",
        "    plt.show()\n",
        "    \n",
        "print('\\nVALIDATION DATA')\n",
        "for i in range(range_i):\n",
        "    plt.imshow(valid_dataset[i])\n",
        "    plt.show()"
      ],
      "execution_count": 12,
      "outputs": [
        {
          "output_type": "stream",
          "text": [
            "\n",
            "TRAINING DATA\n"
          ],
          "name": "stdout"
        },
        {
          "output_type": "display_data",
          "data": {
            "image/png": "[encoded data removed]",
            "text/plain": [
              "<matplotlib.figure.Figure at 0x7f7648e073c8>"
            ]
          },
          "metadata": {
            "tags": []
          }
        },
        {
          "output_type": "display_data",
          "data": {
            "image/png": "[encoded data removed]",
            "text/plain": [
              "<matplotlib.figure.Figure at 0x7f7648e5e4e0>"
            ]
          },
          "metadata": {
            "tags": []
          }
        },
        {
          "output_type": "display_data",
          "data": {
            "image/png": "[encoded data removed]",
            "text/plain": [
              "<matplotlib.figure.Figure at 0x7f7648ee96d8>"
            ]
          },
          "metadata": {
            "tags": []
          }
        },
        {
          "output_type": "display_data",
          "data": {
            "image/png": "[encoded data removed]",
            "text/plain": [
              "<matplotlib.figure.Figure at 0x7f764ef46cf8>"
            ]
          },
          "metadata": {
            "tags": []
          }
        },
        {
          "output_type": "display_data",
          "data": {
            "image/png": "[encoded data removed]",
            "text/plain": [
              "<matplotlib.figure.Figure at 0x7f7648e04748>"
            ]
          },
          "metadata": {
            "tags": []
          }
        },
        {
          "output_type": "stream",
          "text": [
            "\n",
            "TESTING DATA\n"
          ],
          "name": "stdout"
        },
        {
          "output_type": "display_data",
          "data": {
            "image/png": "[encoded data removed]",
            "text/plain": [
              "<matplotlib.figure.Figure at 0x7f76491f2e10>"
            ]
          },
          "metadata": {
            "tags": []
          }
        },
        {
          "output_type": "display_data",
          "data": {
            "image/png": "[encoded data removed]",
            "text/plain": [
              "<matplotlib.figure.Figure at 0x7f7648eeab38>"
            ]
          },
          "metadata": {
            "tags": []
          }
        },
        {
          "output_type": "display_data",
          "data": {
            "image/png": "[encoded data removed]",
            "text/plain": [
              "<matplotlib.figure.Figure at 0x7f7648f5a908>"
            ]
          },
          "metadata": {
            "tags": []
          }
        },
        {
          "output_type": "display_data",
          "data": {
            "image/png": "[encoded data removed]",
            "text/plain": [
              "<matplotlib.figure.Figure at 0x7f7648daa7b8>"
            ]
          },
          "metadata": {
            "tags": []
          }
        },
        {
          "output_type": "display_data",
          "data": {
            "image/png": "[encoded data removed]",
            "text/plain": [
              "<matplotlib.figure.Figure at 0x7f7648fb0208>"
            ]
          },
          "metadata": {
            "tags": []
          }
        },
        {
          "output_type": "stream",
          "text": [
            "\n",
            "VALIDATION DATA\n"
          ],
          "name": "stdout"
        },
        {
          "output_type": "display_data",
          "data": {
            "image/png": "[encoded data removed]",
            "text/plain": [
              "<matplotlib.figure.Figure at 0x7f764901ba58>"
            ]
          },
          "metadata": {
            "tags": []
          }
        },
        {
          "output_type": "display_data",
          "data": {
            "image/png": "[encoded data removed]",
            "text/plain": [
              "<matplotlib.figure.Figure at 0x7f76490077b8>"
            ]
          },
          "metadata": {
            "tags": []
          }
        },
        {
          "output_type": "display_data",
          "data": {
            "image/png": "[encoded data removed]",
            "text/plain": [
              "<matplotlib.figure.Figure at 0x7f7649098668>"
            ]
          },
          "metadata": {
            "tags": []
          }
        },
        {
          "output_type": "display_data",
          "data": {
            "image/png": "[encoded data removed]",
            "text/plain": [
              "<matplotlib.figure.Figure at 0x7f7648f32128>"
            ]
          },
          "metadata": {
            "tags": []
          }
        },
        {
          "output_type": "display_data",
          "data": {
            "image/png": "[encoded data removed]",
            "text/plain": [
              "<matplotlib.figure.Figure at 0x7f7648f32198>"
            ]
          },
          "metadata": {
            "tags": []
          }
        }
      ]
    },
    {
      "metadata": {
        "id": "fL65FhDHFYry",
        "colab_type": "text"
      },
      "cell_type": "markdown",
      "source": [
        "Finally, let's save the data for later reuse:"
      ]
    },
    {
      "metadata": {
        "id": "u1Zvg6p-tw9U",
        "colab_type": "code",
        "colab": {
          "autoexec": {
            "startup": false,
            "wait_interval": 0
          }
        }
      },
      "cell_type": "code",
      "source": [
        "pickle_file = os.path.join(data_root, 'notMNIST.pickle')\n",
        "\n",
        "try:\n",
        "  f = open(pickle_file, 'wb')\n",
        "  save = {\n",
        "    'train_dataset': train_dataset,\n",
        "    'train_labels': train_labels,\n",
        "    'valid_dataset': valid_dataset,\n",
        "    'valid_labels': valid_labels,\n",
        "    'test_dataset': test_dataset,\n",
        "    'test_labels': test_labels,\n",
        "    }\n",
        "  pickle.dump(save, f, pickle.HIGHEST_PROTOCOL)\n",
        "  f.close()\n",
        "except Exception as e:\n",
        "  print('Unable to save data to', pickle_file, ':', e)\n",
        "  raise"
      ],
      "execution_count": 0,
      "outputs": []
    },
    {
      "metadata": {
        "id": "u2JjQRsTt2qB",
        "colab_type": "code",
        "colab": {
          "autoexec": {
            "startup": false,
            "wait_interval": 0
          },
          "output_extras": [
            {
              "item_id": 1
            }
          ],
          "base_uri": "https://localhost:8080/",
          "height": 34
        },
        "outputId": "19f96b16-4ff8-4cd0-8675-a1970dbc3ee7",
        "executionInfo": {
          "status": "ok",
          "timestamp": 1520621890289,
          "user_tz": 300,
          "elapsed": 355,
          "user": {
            "displayName": "Adhish Thite",
            "photoUrl": "//lh5.googleusercontent.com/-Mrh4dvnXd5c/AAAAAAAAAAI/AAAAAAAAX2M/O-s14hFhqXA/s50-c-k-no/photo.jpg",
            "userId": "105913067845686448749"
          }
        }
      },
      "cell_type": "code",
      "source": [
        "statinfo = os.stat(pickle_file)\n",
        "print('Compressed pickle size:', statinfo.st_size)"
      ],
      "execution_count": 14,
      "outputs": [
        {
          "output_type": "stream",
          "text": [
            "Compressed pickle size: 690800506\n"
          ],
          "name": "stdout"
        }
      ]
    },
    {
      "metadata": {
        "id": "328v2f88HEmS",
        "colab_type": "text"
      },
      "cell_type": "markdown",
      "source": [
        "## Step 4 : Cleaning the dataset"
      ]
    },
    {
      "metadata": {
        "id": "y8gAs5nvGVrk",
        "colab_type": "text"
      },
      "cell_type": "markdown",
      "source": [
        "### Problem 5\n",
        "By construction, this dataset might contain a lot of overlapping samples, including training data that's also contained in the validation and test set! Overlap between training and test can skew the results if you expect to use your model in an environment where there is never an overlap, but are actually ok if you expect to see training samples recur when you use it. Measure how much overlap there is between training, validation and test samples.\n",
        "\n",
        "Optional questions:\n",
        "\n",
        "*   What about near duplicates between datasets? (images that are almost identical)\n",
        "*   Create a sanitized validation and test set, and compare your accuracy on those in subsequent assignments.\n",
        "---\n"
      ]
    },
    {
      "metadata": {
        "id": "5JOrftBWGnJg",
        "colab_type": "text"
      },
      "cell_type": "markdown",
      "source": [
        "First, define a function to detect similarity between 2 image sets. This is achieved by flattening matricies into vectors and taking cosine similarities."
      ]
    },
    {
      "metadata": {
        "id": "tFSLzubWuJg7",
        "colab_type": "code",
        "colab": {
          "autoexec": {
            "startup": false,
            "wait_interval": 0
          }
        }
      },
      "cell_type": "code",
      "source": [
        "def get_similarities_for_sets(setA, setB):\n",
        "    lenA = len(setA)\n",
        "    lenB = len(setB)\n",
        "    \n",
        "    vectorsA = setA.reshape(lenA, -1)\n",
        "    vectorsB = setB.reshape(lenB, -1)\n",
        "    \n",
        "    numerator = vectorsA.dot(vectorsB.T)\n",
        "    \n",
        "    normsA = np.sqrt((vectorsA * vectorsA).sum(axis=1))\n",
        "    normsB = np.sqrt((vectorsB * vectorsB).sum(axis=1))\n",
        "    \n",
        "    denominator = np.outer(normsA, normsB)\n",
        "    \n",
        "    result = numerator / denominator\n",
        "    \n",
        "    assert result.shape[0] == lenA\n",
        "    assert result.shape[1] == lenB\n",
        "    \n",
        "    return result"
      ],
      "execution_count": 0,
      "outputs": []
    },
    {
      "metadata": {
        "id": "heAYG_yEGvwQ",
        "colab_type": "text"
      },
      "cell_type": "markdown",
      "source": [
        "Same images in sets have same labels. Taking this into account, similarities can be detected only between same labelled image."
      ]
    },
    {
      "metadata": {
        "id": "WOJZaczquavF",
        "colab_type": "code",
        "colab": {
          "autoexec": {
            "startup": false,
            "wait_interval": 0
          }
        }
      },
      "cell_type": "code",
      "source": [
        "def get_sanitized_dataset(A, Alabels, B, Blabels, threshold=1e-4):\n",
        "    Aunique = np.ones_like(Alabels)\n",
        "    \n",
        "    for l in np.unique(Alabels):\n",
        "        idxA = Alabels == l\n",
        "        idxB = Blabels == l\n",
        "        \n",
        "        filteredA = A[idxA]\n",
        "        filteredB = B[idxB]\n",
        "        \n",
        "        distances = 1. - get_similarities_for_sets(filteredA, filteredB)\n",
        "        Adistances = distances.min(axis=1)\n",
        "        \n",
        "        Aunique[idxA] = Adistances > threshold\n",
        "        \n",
        "    return A[Aunique == 1], Alabels[Aunique == 1]"
      ],
      "execution_count": 0,
      "outputs": []
    },
    {
      "metadata": {
        "id": "JU0evSEiuh8Z",
        "colab_type": "code",
        "colab": {
          "autoexec": {
            "startup": false,
            "wait_interval": 0
          },
          "output_extras": [
            {
              "item_id": 1
            }
          ],
          "base_uri": "https://localhost:8080/",
          "height": 34
        },
        "outputId": "82bba0cf-d57f-4bfa-cbb8-56cfd3ba81be",
        "executionInfo": {
          "status": "ok",
          "timestamp": 1520621892301,
          "user_tz": 300,
          "elapsed": 758,
          "user": {
            "displayName": "Adhish Thite",
            "photoUrl": "//lh5.googleusercontent.com/-Mrh4dvnXd5c/AAAAAAAAAAI/AAAAAAAAX2M/O-s14hFhqXA/s50-c-k-no/photo.jpg",
            "userId": "105913067845686448749"
          }
        }
      },
      "cell_type": "code",
      "source": [
        "a, b = get_sanitized_dataset(valid_dataset, valid_labels, valid_dataset, valid_labels)\n",
        "print(a.shape, b.shape)"
      ],
      "execution_count": 17,
      "outputs": [
        {
          "output_type": "stream",
          "text": [
            "(0, 28, 28) (0,)\n"
          ],
          "name": "stdout"
        }
      ]
    },
    {
      "metadata": {
        "id": "G2oW4lf0unD7",
        "colab_type": "code",
        "colab": {
          "autoexec": {
            "startup": false,
            "wait_interval": 0
          },
          "output_extras": [
            {
              "item_id": 2
            }
          ],
          "base_uri": "https://localhost:8080/",
          "height": 51
        },
        "outputId": "546c3bab-cacb-407c-85f0-88ae12511f6c",
        "executionInfo": {
          "status": "ok",
          "timestamp": 1520621899407,
          "user_tz": 300,
          "elapsed": 6804,
          "user": {
            "displayName": "Adhish Thite",
            "photoUrl": "//lh5.googleusercontent.com/-Mrh4dvnXd5c/AAAAAAAAAAI/AAAAAAAAX2M/O-s14hFhqXA/s50-c-k-no/photo.jpg",
            "userId": "105913067845686448749"
          }
        }
      },
      "cell_type": "code",
      "source": [
        "Xtest_s, Ytest_s = get_sanitized_dataset(test_dataset, test_labels, valid_dataset, valid_labels)\n",
        "print(Xtest_s.shape, Ytest_s.shape)\n",
        "\n",
        "Xtest_s, Ytest_s = get_sanitized_dataset(Xtest_s, Ytest_s, train_dataset, train_labels)\n",
        "print(Xtest_s.shape, Ytest_s.shape)"
      ],
      "execution_count": 18,
      "outputs": [
        {
          "output_type": "stream",
          "text": [
            "(9761, 28, 28) (9761,)\n",
            "(8483, 28, 28) (8483,)\n"
          ],
          "name": "stdout"
        }
      ]
    },
    {
      "metadata": {
        "id": "wWhN6mdzustv",
        "colab_type": "code",
        "colab": {
          "autoexec": {
            "startup": false,
            "wait_interval": 0
          },
          "output_extras": [
            {
              "item_id": 2
            }
          ],
          "base_uri": "https://localhost:8080/",
          "height": 51
        },
        "outputId": "cee79276-aa86-49fa-a2f6-6aee31635501",
        "executionInfo": {
          "status": "ok",
          "timestamp": 1520621906198,
          "user_tz": 300,
          "elapsed": 6765,
          "user": {
            "displayName": "Adhish Thite",
            "photoUrl": "//lh5.googleusercontent.com/-Mrh4dvnXd5c/AAAAAAAAAAI/AAAAAAAAX2M/O-s14hFhqXA/s50-c-k-no/photo.jpg",
            "userId": "105913067845686448749"
          }
        }
      },
      "cell_type": "code",
      "source": [
        "Xvalid_s, Yvalid_s = get_sanitized_dataset(valid_dataset, valid_labels, test_dataset, test_labels)\n",
        "print(Xvalid_s.shape, Yvalid_s.shape)\n",
        "\n",
        "Xvalid_s, Yvalid_s = get_sanitized_dataset(Xvalid_s, Yvalid_s, train_dataset, train_labels)\n",
        "print(Xvalid_s.shape, Yvalid_s.shape)"
      ],
      "execution_count": 19,
      "outputs": [
        {
          "output_type": "stream",
          "text": [
            "(9793, 28, 28) (9793,)\n",
            "(8780, 28, 28) (8780,)\n"
          ],
          "name": "stdout"
        }
      ]
    },
    {
      "metadata": {
        "id": "GMHwFg8yuz5A",
        "colab_type": "code",
        "colab": {
          "autoexec": {
            "startup": false,
            "wait_interval": 0
          }
        }
      },
      "cell_type": "code",
      "source": [
        "Xtrain, Ytrain = train_dataset, train_labels"
      ],
      "execution_count": 0,
      "outputs": []
    },
    {
      "metadata": {
        "id": "qjo46V1Ju6Ku",
        "colab_type": "code",
        "colab": {
          "autoexec": {
            "startup": false,
            "wait_interval": 0
          },
          "output_extras": [
            {
              "item_id": 1
            }
          ],
          "base_uri": "https://localhost:8080/",
          "height": 68
        },
        "outputId": "fe511d6d-b736-4a65-9cfa-5d79e6956d30",
        "executionInfo": {
          "status": "ok",
          "timestamp": 1520621907002,
          "user_tz": 300,
          "elapsed": 292,
          "user": {
            "displayName": "Adhish Thite",
            "photoUrl": "//lh5.googleusercontent.com/-Mrh4dvnXd5c/AAAAAAAAAAI/AAAAAAAAX2M/O-s14hFhqXA/s50-c-k-no/photo.jpg",
            "userId": "105913067845686448749"
          }
        }
      },
      "cell_type": "code",
      "source": [
        "print('Training Datset Shape', Xtrain.shape, Ytrain.shape)\n",
        "print('Validation Dataset Shape', Xvalid_s.shape, Yvalid_s.shape)\n",
        "print('Testing Dataset Shape', Xtest_s.shape, Ytest_s.shape)"
      ],
      "execution_count": 21,
      "outputs": [
        {
          "output_type": "stream",
          "text": [
            "Training Datset Shape (200000, 28, 28) (200000,)\n",
            "Validation Dataset Shape (8780, 28, 28) (8780,)\n",
            "Testing Dataset Shape (8483, 28, 28) (8483,)\n"
          ],
          "name": "stdout"
        }
      ]
    },
    {
      "metadata": {
        "id": "eVZo9PogH0UA",
        "colab_type": "text"
      },
      "cell_type": "markdown",
      "source": [
        "## Step 5 : Model Creation"
      ]
    },
    {
      "metadata": {
        "id": "lLbgt-lDHxwf",
        "colab_type": "text"
      },
      "cell_type": "markdown",
      "source": [
        "### Problem 6\n",
        "\n",
        "Let's get an idea of what an off-the-shelf classifier can give you on this data. It's always good to check that there is something to learn, and that it's a problem that is not so trivial that a canned solution solves it.\n",
        "\n",
        "Train a simple model on this data using 50, 100, 1000 and 5000 training samples. Hint: you can use the LogisticRegression model from sklearn.linear_model.\n",
        "\n",
        "Optional question: train an off-the-shelf model on all the data!"
      ]
    },
    {
      "metadata": {
        "id": "evlxXBy8u9C0",
        "colab_type": "code",
        "colab": {
          "autoexec": {
            "startup": false,
            "wait_interval": 0
          }
        }
      },
      "cell_type": "code",
      "source": [
        "from sklearn.linear_model import LogisticRegression"
      ],
      "execution_count": 0,
      "outputs": []
    },
    {
      "metadata": {
        "id": "uxvGLtvlvDCT",
        "colab_type": "code",
        "colab": {
          "autoexec": {
            "startup": false,
            "wait_interval": 0
          },
          "output_extras": [
            {
              "item_id": 1
            },
            {
              "item_id": 6
            }
          ],
          "base_uri": "https://localhost:8080/",
          "height": 173
        },
        "outputId": "0d5e17bd-aac4-4b91-bcd0-58b149c3e18b",
        "executionInfo": {
          "status": "ok",
          "timestamp": 1520622588317,
          "user_tz": 300,
          "elapsed": 680475,
          "user": {
            "displayName": "Adhish Thite",
            "photoUrl": "//lh5.googleusercontent.com/-Mrh4dvnXd5c/AAAAAAAAAAI/AAAAAAAAX2M/O-s14hFhqXA/s50-c-k-no/photo.jpg",
            "userId": "105913067845686448749"
          }
        }
      },
      "cell_type": "code",
      "source": [
        "res = {}\n",
        "\n",
        "for n in [50, 100, 1000, 5000, 10000, 50000]:\n",
        "    clf = LogisticRegression(n_jobs=-1)\n",
        "    clf.fit(Xtrain[:n].reshape(n, -1), Ytrain[:n])\n",
        "    score = clf.score(Xtest_s.reshape(len(Xtest_s), -1), Ytest_s)\n",
        "    \n",
        "    res[n] = {'clf': clf, 'score': score}\n",
        "    print(n, score)"
      ],
      "execution_count": 23,
      "outputs": [
        {
          "output_type": "stream",
          "text": [
            "/usr/local/lib/python3.6/dist-packages/sklearn/linear_model/logistic.py:1228: UserWarning: 'n_jobs' > 1 does not have any effect when 'solver' is set to 'liblinear'. Got 'n_jobs' = -1.\n",
            "  \" = {}.\".format(self.n_jobs))\n"
          ],
          "name": "stderr"
        },
        {
          "output_type": "stream",
          "text": [
            "50 0.6195921254273252\n",
            "100 0.7370034186019097\n",
            "1000 0.8150418484026877\n",
            "5000 0.832016975126724\n",
            "10000 0.8460450312389485\n",
            "50000 0.8676175881174113\n"
          ],
          "name": "stdout"
        }
      ]
    },
    {
      "metadata": {
        "id": "uS0hh5VIvE8S",
        "colab_type": "code",
        "colab": {
          "autoexec": {
            "startup": false,
            "wait_interval": 0
          },
          "output_extras": [
            {
              "item_id": 1
            },
            {
              "item_id": 2
            }
          ],
          "base_uri": "https://localhost:8080/",
          "height": 286
        },
        "outputId": "96cbcc88-e360-4f2b-ff0c-52157f6ab683",
        "executionInfo": {
          "status": "ok",
          "timestamp": 1520622589283,
          "user_tz": 300,
          "elapsed": 820,
          "user": {
            "displayName": "Adhish Thite",
            "photoUrl": "//lh5.googleusercontent.com/-Mrh4dvnXd5c/AAAAAAAAAAI/AAAAAAAAX2M/O-s14hFhqXA/s50-c-k-no/photo.jpg",
            "userId": "105913067845686448749"
          }
        }
      },
      "cell_type": "code",
      "source": [
        "keys = res.keys()\n",
        "plt.xscale('log')\n",
        "plt.plot(keys, [res[k]['score'] for k in keys])"
      ],
      "execution_count": 24,
      "outputs": [
        {
          "output_type": "execute_result",
          "data": {
            "text/plain": [
              "[<matplotlib.lines.Line2D at 0x7f764b2e8550>]"
            ]
          },
          "metadata": {
            "tags": []
          },
          "execution_count": 24
        },
        {
          "output_type": "display_data",
          "data": {
            "image/png": "[encoded data removed]",
            "text/plain": [
              "<matplotlib.figure.Figure at 0x7f764b2e8c18>"
            ]
          },
          "metadata": {
            "tags": []
          }
        }
      ]
    },
    {
      "metadata": {
        "id": "wmqBPSe4z_qi",
        "colab_type": "code",
        "colab": {
          "autoexec": {
            "startup": false,
            "wait_interval": 0
          },
          "output_extras": [
            {
              "item_id": 1
            },
            {
              "item_id": 2
            },
            {
              "item_id": 3
            }
          ],
          "base_uri": "https://localhost:8080/",
          "height": 401
        },
        "outputId": "34cb02c2-fea3-4727-a27b-d6535222f3c9",
        "executionInfo": {
          "status": "ok",
          "timestamp": 1520622589850,
          "user_tz": 300,
          "elapsed": 539,
          "user": {
            "displayName": "Adhish Thite",
            "photoUrl": "//lh5.googleusercontent.com/-Mrh4dvnXd5c/AAAAAAAAAAI/AAAAAAAAX2M/O-s14hFhqXA/s50-c-k-no/photo.jpg",
            "userId": "105913067845686448749"
          }
        }
      },
      "cell_type": "code",
      "source": [
        "i = np.random.randint(len(Xtest_s))\n",
        "print('Ground truth class', Ytest_s[i])\n",
        "for n in keys:\n",
        "    print(n, res[n]['clf'].predict(Xtest_s[i].reshape(1, -1)))\n",
        "plt.imshow(Xtest_s[i])"
      ],
      "execution_count": 25,
      "outputs": [
        {
          "output_type": "stream",
          "text": [
            "Ground truth class 6\n",
            "50 [6]\n",
            "100 [6]\n",
            "1000 [6]\n",
            "5000 [6]\n",
            "10000 [6]\n",
            "50000 [6]\n"
          ],
          "name": "stdout"
        },
        {
          "output_type": "execute_result",
          "data": {
            "text/plain": [
              "<matplotlib.image.AxesImage at 0x7f76490f0588>"
            ]
          },
          "metadata": {
            "tags": []
          },
          "execution_count": 25
        },
        {
          "output_type": "display_data",
          "data": {
            "image/png": "[encoded data removed]",
            "text/plain": [
              "<matplotlib.figure.Figure at 0x7f764b2764e0>"
            ]
          },
          "metadata": {
            "tags": []
          }
        }
      ]
    }
  ]
}