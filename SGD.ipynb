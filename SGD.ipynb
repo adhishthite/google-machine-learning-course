{
  "nbformat": 4,
  "nbformat_minor": 0,
  "metadata": {
    "colab": {
      "name": "SGD.ipynb",
      "version": "0.3.2",
      "views": {},
      "default_view": {},
      "provenance": [],
      "collapsed_sections": []
    },
    "kernelspec": {
      "name": "python3",
      "display_name": "Python 3"
    },
    "accelerator": "GPU"
  },
  "cells": [
    {
      "metadata": {
        "id": "h_N0ZDFr7Zoe",
        "colab_type": "text"
      },
      "cell_type": "markdown",
      "source": [
        "# Stochastic Gradient Descent\n",
        "\n",
        "---\n",
        "\n",
        "Created as a part of Google's 'Machine Learning to Deep Learning' course on Udacity.\n",
        "\n",
        "\n",
        "\n",
        "\n",
        "*(Created with Google Colab)*"
      ]
    },
    {
      "metadata": {
        "id": "GW6mbsn67svY",
        "colab_type": "text"
      },
      "cell_type": "markdown",
      "source": [
        "## Step 1 - Imports"
      ]
    },
    {
      "metadata": {
        "id": "iCLYMbKL-nUb",
        "colab_type": "code",
        "colab": {
          "autoexec": {
            "startup": false,
            "wait_interval": 0
          },
          "output_extras": [
            {
              "item_id": 1
            }
          ],
          "base_uri": "https://localhost:8080/",
          "height": 85
        },
        "outputId": "e51c651b-96b1-4697-a1dd-081eb6ba5b38",
        "executionInfo": {
          "status": "ok",
          "timestamp": 1520654725399,
          "user_tz": 300,
          "elapsed": 3359,
          "user": {
            "displayName": "Adhish Thite",
            "photoUrl": "//lh5.googleusercontent.com/-Mrh4dvnXd5c/AAAAAAAAAAI/AAAAAAAAX2M/O-s14hFhqXA/s50-c-k-no/photo.jpg",
            "userId": "105913067845686448749"
          }
        }
      },
      "cell_type": "code",
      "source": [
        "# These are all the modules we'll be using later. Make sure you can import them\n",
        "# before proceeding further.\n",
        "from __future__ import print_function\n",
        "import tensorflow as tf\n",
        "from six.moves import cPickle as pickle\n",
        "from six.moves import range\n",
        "import numpy as np\n",
        "import os\n",
        "import sys\n",
        "import tarfile\n",
        "from IPython.display import display, Image\n",
        "from scipy import ndimage\n",
        "from sklearn.linear_model import LogisticRegression\n",
        "from six.moves.urllib.request import urlretrieve\n",
        "from six.moves import cPickle as pickle\n",
        "\n",
        "!pip install imageio\n",
        "\n",
        "import imageio\n",
        "\n",
        "# Config the matlotlib backend as plotting inline in IPython\n",
        "%matplotlib inline"
      ],
      "execution_count": 1,
      "outputs": [
        {
          "output_type": "stream",
          "text": [
            "Requirement already satisfied: imageio in /usr/local/lib/python3.6/dist-packages\r\n",
            "Requirement already satisfied: numpy in /usr/local/lib/python3.6/dist-packages (from imageio)\r\n",
            "Requirement already satisfied: pillow in /usr/local/lib/python3.6/dist-packages (from imageio)\r\n",
            "Requirement already satisfied: olefile in /usr/local/lib/python3.6/dist-packages (from pillow->imageio)\r\n"
          ],
          "name": "stdout"
        }
      ]
    },
    {
      "metadata": {
        "id": "J4eb0dYv75pv",
        "colab_type": "text"
      },
      "cell_type": "markdown",
      "source": [
        "## Step 2 : Dataset Creation"
      ]
    },
    {
      "metadata": {
        "id": "mBjLvLJHGjHE",
        "colab_type": "code",
        "colab": {
          "autoexec": {
            "startup": false,
            "wait_interval": 0
          },
          "output_extras": [
            {
              "item_id": 2
            }
          ],
          "base_uri": "https://localhost:8080/",
          "height": 530
        },
        "outputId": "291c78e3-6979-4ccd-9594-b747adcab922",
        "executionInfo": {
          "status": "ok",
          "timestamp": 1520654735266,
          "user_tz": 300,
          "elapsed": 9841,
          "user": {
            "displayName": "Adhish Thite",
            "photoUrl": "//lh5.googleusercontent.com/-Mrh4dvnXd5c/AAAAAAAAAAI/AAAAAAAAX2M/O-s14hFhqXA/s50-c-k-no/photo.jpg",
            "userId": "105913067845686448749"
          }
        }
      },
      "cell_type": "code",
      "source": [
        "url = 'http://commondatastorage.googleapis.com/books1000/'\n",
        "last_percent_reported = None\n",
        "data_root = '.'\n",
        "\n",
        "def download_progress_hook(count, blockSize, totalSize):\n",
        "  \"\"\"A hook to report the progress of a download. This is mostly intended for users with\n",
        "  slow internet connections. Reports every 1% change in download progress.\n",
        "  \"\"\"\n",
        "  global last_percent_reported\n",
        "  percent = int(count * blockSize * 100 / totalSize)\n",
        "\n",
        "  if last_percent_reported != percent:\n",
        "    if percent % 5 == 0:\n",
        "      sys.stdout.write(\"%s%%\" % percent)\n",
        "      sys.stdout.flush()\n",
        "    else:\n",
        "      sys.stdout.write(\".\")\n",
        "      sys.stdout.flush()\n",
        "      \n",
        "    last_percent_reported = percent\n",
        "        \n",
        "def maybe_download(filename, expected_bytes, force=False):\n",
        "  \"\"\"Download a file if not present, and make sure it's the right size.\"\"\"\n",
        "  if force or not os.path.exists(filename):\n",
        "    print('Attempting to download:', filename) \n",
        "    filename, _ = urlretrieve(url + filename, filename, reporthook=download_progress_hook)\n",
        "    print('\\nDownload Complete!')\n",
        "  statinfo = os.stat(filename)\n",
        "  if statinfo.st_size == expected_bytes:\n",
        "    print('Found and verified', filename)\n",
        "  else:\n",
        "    raise Exception(\n",
        "      'Failed to verify ' + filename + '. Can you get to it with a browser?')\n",
        "  return filename\n",
        "\n",
        "train_filename = maybe_download('notMNIST_large.tar.gz', 247336696)\n",
        "test_filename = maybe_download('notMNIST_small.tar.gz', 8458043)\n",
        "\n",
        "num_classes = 10\n",
        "np.random.seed(133)\n",
        "\n",
        "def maybe_extract(filename, force=False):\n",
        "  root = os.path.splitext(os.path.splitext(filename)[0])[0]  # remove .tar.gz\n",
        "  if os.path.isdir(root) and not force:\n",
        "    # You may override by setting force=True.\n",
        "    print('%s already present - Skipping extraction of %s.' % (root, filename))\n",
        "  else:\n",
        "    print('Extracting data for %s. This may take a while. Please wait.' % root)\n",
        "    tar = tarfile.open(filename)\n",
        "    sys.stdout.flush()\n",
        "    tar.extractall(data_root)\n",
        "    tar.close()\n",
        "  data_folders = [\n",
        "    os.path.join(root, d) for d in sorted(os.listdir(root))\n",
        "    if os.path.isdir(os.path.join(root, d))]\n",
        "  if len(data_folders) != num_classes:\n",
        "    raise Exception(\n",
        "      'Expected %d folders, one per class. Found %d instead.' % (\n",
        "        num_classes, len(data_folders)))\n",
        "  print(data_folders)\n",
        "  return data_folders\n",
        "  \n",
        "train_folders = maybe_extract(train_filename)\n",
        "test_folders = maybe_extract(test_filename)\n",
        "\n",
        "image_size = 28  # Pixel width and height.\n",
        "pixel_depth = 255.0  # Number of levels per pixel.\n",
        "\n",
        "def load_letter(folder, min_num_images):\n",
        "  \"\"\"Load the data for a single letter label.\"\"\"\n",
        "  image_files = os.listdir(folder)\n",
        "  dataset = np.ndarray(shape=(len(image_files), image_size, image_size),\n",
        "                         dtype=np.float32)\n",
        "  print(folder)\n",
        "  num_images = 0\n",
        "  for image in image_files:\n",
        "    image_file = os.path.join(folder, image)\n",
        "    try:\n",
        "      image_data = (imageio.imread(image_file).astype(float) - \n",
        "                    pixel_depth / 2) / pixel_depth\n",
        "      if image_data.shape != (image_size, image_size):\n",
        "        raise Exception('Unexpected image shape: %s' % str(image_data.shape))\n",
        "      dataset[num_images, :, :] = image_data\n",
        "      num_images = num_images + 1\n",
        "    except (IOError, ValueError) as e:\n",
        "      print('Could not read:', image_file, ':', e, '- it\\'s ok, skipping.')\n",
        "    \n",
        "  dataset = dataset[0:num_images, :, :]\n",
        "  if num_images < min_num_images:\n",
        "    raise Exception('Many fewer images than expected: %d < %d' %\n",
        "                    (num_images, min_num_images))\n",
        "    \n",
        "  print('Full dataset tensor:', dataset.shape)\n",
        "  print('Mean:', np.mean(dataset))\n",
        "  print('Standard deviation:', np.std(dataset))\n",
        "  return dataset\n",
        "        \n",
        "def maybe_pickle(data_folders, min_num_images_per_class, force=False):\n",
        "  dataset_names = []\n",
        "  for folder in data_folders:\n",
        "    set_filename = folder + '.pickle'\n",
        "    dataset_names.append(set_filename)\n",
        "    if os.path.exists(set_filename) and not force:\n",
        "      # You may override by setting force=True.\n",
        "      print('%s already present - Skipping pickling.' % set_filename)\n",
        "    else:\n",
        "      print('Pickling %s.' % set_filename)\n",
        "      dataset = load_letter(folder, min_num_images_per_class)\n",
        "      try:\n",
        "        with open(set_filename, 'wb') as f:\n",
        "          pickle.dump(dataset, f, pickle.HIGHEST_PROTOCOL)\n",
        "      except Exception as e:\n",
        "        print('Unable to save data to', set_filename, ':', e)\n",
        "  \n",
        "  return dataset_names\n",
        "\n",
        "train_datasets = maybe_pickle(train_folders, 45000)\n",
        "test_datasets = maybe_pickle(test_folders, 1800)\n",
        "\n",
        "def make_arrays(nb_rows, img_size):\n",
        "  if nb_rows:\n",
        "    dataset = np.ndarray((nb_rows, img_size, img_size), dtype=np.float32)\n",
        "    labels = np.ndarray(nb_rows, dtype=np.int32)\n",
        "  else:\n",
        "    dataset, labels = None, None\n",
        "  return dataset, labels\n",
        "\n",
        "def merge_datasets(pickle_files, train_size, valid_size=0):\n",
        "  num_classes = len(pickle_files)\n",
        "  valid_dataset, valid_labels = make_arrays(valid_size, image_size)\n",
        "  train_dataset, train_labels = make_arrays(train_size, image_size)\n",
        "  vsize_per_class = valid_size // num_classes\n",
        "  tsize_per_class = train_size // num_classes\n",
        "    \n",
        "  start_v, start_t = 0, 0\n",
        "  end_v, end_t = vsize_per_class, tsize_per_class\n",
        "  end_l = vsize_per_class+tsize_per_class\n",
        "  for label, pickle_file in enumerate(pickle_files):       \n",
        "    try:\n",
        "      with open(pickle_file, 'rb') as f:\n",
        "        letter_set = pickle.load(f)\n",
        "        # let's shuffle the letters to have random validation and training set\n",
        "        np.random.shuffle(letter_set)\n",
        "        if valid_dataset is not None:\n",
        "          valid_letter = letter_set[:vsize_per_class, :, :]\n",
        "          valid_dataset[start_v:end_v, :, :] = valid_letter\n",
        "          valid_labels[start_v:end_v] = label\n",
        "          start_v += vsize_per_class\n",
        "          end_v += vsize_per_class\n",
        "                    \n",
        "        train_letter = letter_set[vsize_per_class:end_l, :, :]\n",
        "        train_dataset[start_t:end_t, :, :] = train_letter\n",
        "        train_labels[start_t:end_t] = label\n",
        "        start_t += tsize_per_class\n",
        "        end_t += tsize_per_class\n",
        "    except Exception as e:\n",
        "      print('Unable to process data from', pickle_file, ':', e)\n",
        "      raise\n",
        "    \n",
        "  return valid_dataset, valid_labels, train_dataset, train_labels\n",
        "            \n",
        "            \n",
        "train_size = 200000\n",
        "valid_size = 10000\n",
        "test_size = 10000\n",
        "\n",
        "valid_dataset, valid_labels, train_dataset, train_labels = merge_datasets(\n",
        "  train_datasets, train_size, valid_size)\n",
        "_, _, test_dataset, test_labels = merge_datasets(test_datasets, test_size)\n",
        "\n",
        "print('Training:', train_dataset.shape, train_labels.shape)\n",
        "print('Validation:', valid_dataset.shape, valid_labels.shape)\n",
        "print('Testing:', test_dataset.shape, test_labels.shape)\n",
        "\n",
        "def randomize(dataset, labels):\n",
        "  permutation = np.random.permutation(labels.shape[0])\n",
        "  shuffled_dataset = dataset[permutation,:,:]\n",
        "  shuffled_labels = labels[permutation]\n",
        "  return shuffled_dataset, shuffled_labels\n",
        "train_dataset, train_labels = randomize(train_dataset, train_labels)\n",
        "test_dataset, test_labels = randomize(test_dataset, test_labels)\n",
        "valid_dataset, valid_labels = randomize(valid_dataset, valid_labels)\n",
        "\n",
        "pickle_file = os.path.join(data_root, 'notMNIST.pickle')\n",
        "\n",
        "try:\n",
        "  f = open(pickle_file, 'wb')\n",
        "  save = {\n",
        "    'train_dataset': train_dataset,\n",
        "    'train_labels': train_labels,\n",
        "    'valid_dataset': valid_dataset,\n",
        "    'valid_labels': valid_labels,\n",
        "    'test_dataset': test_dataset,\n",
        "    'test_labels': test_labels,\n",
        "    }\n",
        "  pickle.dump(save, f, pickle.HIGHEST_PROTOCOL)\n",
        "  f.close()\n",
        "except Exception as e:\n",
        "  print('Unable to save data to', pickle_file, ':', e)\n",
        "  raise"
      ],
      "execution_count": 2,
      "outputs": [
        {
          "output_type": "stream",
          "text": [
            "Found and verified notMNIST_large.tar.gz\n",
            "Found and verified notMNIST_small.tar.gz\n",
            "notMNIST_large already present - Skipping extraction of notMNIST_large.tar.gz.\n",
            "['notMNIST_large/A', 'notMNIST_large/B', 'notMNIST_large/C', 'notMNIST_large/D', 'notMNIST_large/E', 'notMNIST_large/F', 'notMNIST_large/G', 'notMNIST_large/H', 'notMNIST_large/I', 'notMNIST_large/J']\n",
            "notMNIST_small already present - Skipping extraction of notMNIST_small.tar.gz.\n",
            "['notMNIST_small/A', 'notMNIST_small/B', 'notMNIST_small/C', 'notMNIST_small/D', 'notMNIST_small/E', 'notMNIST_small/F', 'notMNIST_small/G', 'notMNIST_small/H', 'notMNIST_small/I', 'notMNIST_small/J']\n",
            "notMNIST_large/A.pickle already present - Skipping pickling.\n",
            "notMNIST_large/B.pickle already present - Skipping pickling.\n",
            "notMNIST_large/C.pickle already present - Skipping pickling.\n",
            "notMNIST_large/D.pickle already present - Skipping pickling.\n",
            "notMNIST_large/E.pickle already present - Skipping pickling.\n",
            "notMNIST_large/F.pickle already present - Skipping pickling.\n",
            "notMNIST_large/G.pickle already present - Skipping pickling.\n",
            "notMNIST_large/H.pickle already present - Skipping pickling.\n",
            "notMNIST_large/I.pickle already present - Skipping pickling.\n",
            "notMNIST_large/J.pickle already present - Skipping pickling.\n",
            "notMNIST_small/A.pickle already present - Skipping pickling.\n",
            "notMNIST_small/B.pickle already present - Skipping pickling.\n",
            "notMNIST_small/C.pickle already present - Skipping pickling.\n",
            "notMNIST_small/D.pickle already present - Skipping pickling.\n",
            "notMNIST_small/E.pickle already present - Skipping pickling.\n",
            "notMNIST_small/F.pickle already present - Skipping pickling.\n",
            "notMNIST_small/G.pickle already present - Skipping pickling.\n",
            "notMNIST_small/H.pickle already present - Skipping pickling.\n",
            "notMNIST_small/I.pickle already present - Skipping pickling.\n",
            "notMNIST_small/J.pickle already present - Skipping pickling.\n",
            "Training: (200000, 28, 28) (200000,)\n",
            "Validation: (10000, 28, 28) (10000,)\n",
            "Testing: (10000, 28, 28) (10000,)\n"
          ],
          "name": "stdout"
        }
      ]
    },
    {
      "metadata": {
        "id": "irHSDaZ47zkA",
        "colab_type": "text"
      },
      "cell_type": "markdown",
      "source": [
        "## Step 3 - Data Reformatting\n",
        "\n",
        "Reformat into a shape that's more adapted to the models we're going to train:\n",
        "\n",
        "*   Data as a flat matrix,\n",
        "*   Labels as float 1-hot encodings.\n",
        "\n"
      ]
    },
    {
      "metadata": {
        "id": "9BtC0nliJVej",
        "colab_type": "code",
        "colab": {
          "autoexec": {
            "startup": false,
            "wait_interval": 0
          },
          "output_extras": [
            {
              "item_id": 1
            }
          ],
          "base_uri": "https://localhost:8080/",
          "height": 68
        },
        "outputId": "647b460d-8290-4814-a6eb-8a27efae58b1",
        "executionInfo": {
          "status": "ok",
          "timestamp": 1520654735619,
          "user_tz": 300,
          "elapsed": 316,
          "user": {
            "displayName": "Adhish Thite",
            "photoUrl": "//lh5.googleusercontent.com/-Mrh4dvnXd5c/AAAAAAAAAAI/AAAAAAAAX2M/O-s14hFhqXA/s50-c-k-no/photo.jpg",
            "userId": "105913067845686448749"
          }
        }
      },
      "cell_type": "code",
      "source": [
        "image_size = 28\n",
        "num_labels = 10\n",
        "\n",
        "def reformat(dataset, labels):\n",
        "  dataset = dataset.reshape((-1, image_size * image_size)).astype(np.float32)\n",
        "  # Map 0 to [1.0, 0.0, 0.0 ...], 1 to [0.0, 1.0, 0.0 ...]\n",
        "  labels = (np.arange(num_labels) == labels[:,None]).astype(np.float32)\n",
        "  return dataset, labels\n",
        "\n",
        "train_dataset, train_labels = reformat(train_dataset, train_labels)\n",
        "valid_dataset, valid_labels = reformat(valid_dataset, valid_labels)\n",
        "test_dataset, test_labels = reformat(test_dataset, test_labels)\n",
        "print('Training set', train_dataset.shape, train_labels.shape)\n",
        "print('Validation set', valid_dataset.shape, valid_labels.shape)\n",
        "print('Test set', test_dataset.shape, test_labels.shape)"
      ],
      "execution_count": 3,
      "outputs": [
        {
          "output_type": "stream",
          "text": [
            "Training set (200000, 784) (200000, 10)\n",
            "Validation set (10000, 784) (10000, 10)\n",
            "Test set (10000, 784) (10000, 10)\n"
          ],
          "name": "stdout"
        }
      ]
    },
    {
      "metadata": {
        "id": "cU5CHU9XANIj",
        "colab_type": "text"
      },
      "cell_type": "markdown",
      "source": [
        "## Step 4 - Gradient Descent\n",
        "\n",
        "We're first going to train a multinomial logistic regression using simple gradient descent.\n",
        "\n",
        "TensorFlow works like this:\n",
        "\n",
        "*   First you describe the computation that you want to see performed: what the inputs, the variables, and the operations look like. These get created as nodes over a computation graph. This description is all contained within the block below:\n",
        "\n",
        "> `with graph.as_default():`\n",
        "\n",
        ">        ...\n",
        "\n",
        "*   Then you can run the operations on this graph as many times as you want by calling session.run(), providing it outputs to fetch from the graph that get returned. This runtime operation is all contained in the block below:\n",
        "\n",
        "> `with tf.Session(graph=graph) as session:`\n",
        "\n",
        ">     ...\n",
        "\n",
        "Let's load all the data into TensorFlow and build the computation graph corresponding to our training:\n"
      ]
    },
    {
      "metadata": {
        "id": "SJ3VW867JYfm",
        "colab_type": "code",
        "colab": {
          "autoexec": {
            "startup": false,
            "wait_interval": 0
          },
          "output_extras": [
            {
              "item_id": 1
            }
          ],
          "base_uri": "https://localhost:8080/",
          "height": 173
        },
        "outputId": "44e99cf6-0efb-4a6f-bb74-3be40ca70053",
        "executionInfo": {
          "status": "ok",
          "timestamp": 1520654736309,
          "user_tz": 300,
          "elapsed": 583,
          "user": {
            "displayName": "Adhish Thite",
            "photoUrl": "//lh5.googleusercontent.com/-Mrh4dvnXd5c/AAAAAAAAAAI/AAAAAAAAX2M/O-s14hFhqXA/s50-c-k-no/photo.jpg",
            "userId": "105913067845686448749"
          }
        }
      },
      "cell_type": "code",
      "source": [
        "# With gradient descent training, even this much data is prohibitive.\n",
        "# Subset the training data for faster turnaround.\n",
        "train_subset = 10000\n",
        "\n",
        "graph = tf.Graph()\n",
        "with graph.as_default():\n",
        "\n",
        "  # Input data.\n",
        "  # Load the training, validation and test data into constants that are\n",
        "  # attached to the graph.\n",
        "  tf_train_dataset = tf.constant(train_dataset[:train_subset, :])\n",
        "  tf_train_labels = tf.constant(train_labels[:train_subset])\n",
        "  tf_valid_dataset = tf.constant(valid_dataset)\n",
        "  tf_test_dataset = tf.constant(test_dataset)\n",
        "  \n",
        "  # Variables.\n",
        "  # These are the parameters that we are going to be training. The weight\n",
        "  # matrix will be initialized using random values following a (truncated)\n",
        "  # normal distribution. The biases get initialized to zero.\n",
        "  weights = tf.Variable(\n",
        "    tf.truncated_normal([image_size * image_size, num_labels]))\n",
        "  biases = tf.Variable(tf.zeros([num_labels]))\n",
        "  \n",
        "  # Training computation.\n",
        "  # We multiply the inputs with the weight matrix, and add biases. We compute\n",
        "  # the softmax and cross-entropy (it's one operation in TensorFlow, because\n",
        "  # it's very common, and it can be optimized). We take the average of this\n",
        "  # cross-entropy across all training examples: that's our loss.\n",
        "  logits = tf.matmul(tf_train_dataset, weights) + biases\n",
        "  loss = tf.reduce_mean(\n",
        "    tf.nn.softmax_cross_entropy_with_logits(labels=tf_train_labels, logits=logits))\n",
        "  \n",
        "  # Optimizer.\n",
        "  # We are going to find the minimum of this loss using gradient descent.\n",
        "  optimizer = tf.train.GradientDescentOptimizer(0.5).minimize(loss)\n",
        "  \n",
        "  # Predictions for the training, validation, and test data.\n",
        "  # These are not part of training, but merely here so that we can report\n",
        "  # accuracy figures as we train.\n",
        "  train_prediction = tf.nn.softmax(logits)\n",
        "  valid_prediction = tf.nn.softmax(\n",
        "    tf.matmul(tf_valid_dataset, weights) + biases)\n",
        "  test_prediction = tf.nn.softmax(tf.matmul(tf_test_dataset, weights) + biases)"
      ],
      "execution_count": 4,
      "outputs": [
        {
          "output_type": "stream",
          "text": [
            "WARNING:tensorflow:From <ipython-input-4-58acd45c85e4>:29: softmax_cross_entropy_with_logits (from tensorflow.python.ops.nn_ops) is deprecated and will be removed in a future version.\n",
            "Instructions for updating:\n",
            "\n",
            "Future major versions of TensorFlow will allow gradients to flow\n",
            "into the labels input on backprop by default.\n",
            "\n",
            "See tf.nn.softmax_cross_entropy_with_logits_v2.\n",
            "\n"
          ],
          "name": "stdout"
        }
      ]
    },
    {
      "metadata": {
        "id": "7qw3lcdzDYJ6",
        "colab_type": "text"
      },
      "cell_type": "markdown",
      "source": [
        "Let's run this computation and iterate:"
      ]
    },
    {
      "metadata": {
        "id": "24pzcXC9Jh8w",
        "colab_type": "code",
        "colab": {
          "autoexec": {
            "startup": false,
            "wait_interval": 0
          },
          "output_extras": [
            {
              "item_id": 12
            }
          ],
          "base_uri": "https://localhost:8080/",
          "height": 799
        },
        "outputId": "615e8a2e-bc02-4d5e-ef19-ee86b7396715",
        "executionInfo": {
          "status": "ok",
          "timestamp": 1520654760911,
          "user_tz": 300,
          "elapsed": 24584,
          "user": {
            "displayName": "Adhish Thite",
            "photoUrl": "//lh5.googleusercontent.com/-Mrh4dvnXd5c/AAAAAAAAAAI/AAAAAAAAX2M/O-s14hFhqXA/s50-c-k-no/photo.jpg",
            "userId": "105913067845686448749"
          }
        }
      },
      "cell_type": "code",
      "source": [
        "num_steps = 10001\n",
        "\n",
        "def accuracy(predictions, labels):\n",
        "  return (100.0 * np.sum(np.argmax(predictions, 1) == np.argmax(labels, 1))\n",
        "          / predictions.shape[0])\n",
        "\n",
        "with tf.Session(graph=graph) as session:\n",
        "  # This is a one-time operation which ensures the parameters get initialized as\n",
        "  # we described in the graph: random weights for the matrix, zeros for the\n",
        "  # biases. \n",
        "  tf.global_variables_initializer().run()\n",
        "  print('Initialized')\n",
        "  for step in range(num_steps):\n",
        "    # Run the computations. We tell .run() that we want to run the optimizer,\n",
        "    # and get the loss value and the training predictions returned as numpy\n",
        "    # arrays.\n",
        "    _, l, predictions = session.run([optimizer, loss, train_prediction])\n",
        "    if (step % 1000 == 0):\n",
        "      print('\\nLoss at step %d: %f' % (step, l))\n",
        "      print('Training accuracy: %.1f%%' % accuracy(\n",
        "        predictions, train_labels[:train_subset, :]))\n",
        "      # Calling .eval() on valid_prediction is basically like calling run(), but\n",
        "      # just to get that one numpy array. Note that it recomputes all its graph\n",
        "      # dependencies.\n",
        "      print('Validation accuracy: %.1f%%' % accuracy(\n",
        "        valid_prediction.eval(), valid_labels))\n",
        "  print('Test accuracy: %.1f%%' % accuracy(test_prediction.eval(), test_labels))"
      ],
      "execution_count": 5,
      "outputs": [
        {
          "output_type": "stream",
          "text": [
            "Initialized\n",
            "\n",
            "Loss at step 0: 18.894234\n",
            "Training accuracy: 9.4%\n",
            "Validation accuracy: 11.0%\n",
            "\n",
            "Loss at step 1000: 0.978629\n",
            "Training accuracy: 80.4%\n",
            "Validation accuracy: 75.6%\n",
            "\n",
            "Loss at step 2000: 0.710753\n",
            "Training accuracy: 83.2%\n",
            "Validation accuracy: 76.2%\n",
            "\n",
            "Loss at step 3000: 0.589785\n",
            "Training accuracy: 85.1%\n",
            "Validation accuracy: 76.7%\n",
            "\n",
            "Loss at step 4000: 0.519826\n",
            "Training accuracy: 86.3%\n",
            "Validation accuracy: 76.9%\n",
            "\n",
            "Loss at step 5000: 0.473509\n",
            "Training accuracy: 87.4%\n",
            "Validation accuracy: 77.0%\n",
            "\n",
            "Loss at step 6000: 0.440238\n",
            "Training accuracy: 88.3%\n",
            "Validation accuracy: 77.1%\n",
            "\n",
            "Loss at step 7000: 0.415013\n",
            "Training accuracy: 89.0%\n",
            "Validation accuracy: 77.1%\n",
            "\n",
            "Loss at step 8000: 0.395072\n",
            "Training accuracy: 89.7%\n",
            "Validation accuracy: 77.2%\n",
            "\n",
            "Loss at step 9000: 0.378777\n",
            "Training accuracy: 90.2%\n",
            "Validation accuracy: 77.3%\n",
            "\n",
            "Loss at step 10000: 0.365113\n",
            "Training accuracy: 90.6%\n",
            "Validation accuracy: 77.4%\n",
            "Test accuracy: 84.3%\n"
          ],
          "name": "stdout"
        }
      ]
    },
    {
      "metadata": {
        "id": "AkXKp_iLDjNv",
        "colab_type": "text"
      },
      "cell_type": "markdown",
      "source": [
        "## Step 5 - Stochastic Gradient Descent\n",
        "\n",
        "Let's now switch to stochastic gradient descent training instead, which is much faster.\n",
        "\n",
        "The graph will be similar, except that instead of holding all the training data into a constant node, we create a `Placeholder` node which will be fed actual data at every call of `session.run()`."
      ]
    },
    {
      "metadata": {
        "id": "xtKBqdNCJmKy",
        "colab_type": "code",
        "colab": {
          "autoexec": {
            "startup": false,
            "wait_interval": 0
          }
        }
      },
      "cell_type": "code",
      "source": [
        "batch_size = 128\n",
        "\n",
        "graph = tf.Graph()\n",
        "with graph.as_default():\n",
        "\n",
        "  # Input data. For the training data, we use a placeholder that will be fed\n",
        "  # at run time with a training minibatch.\n",
        "  tf_train_dataset = tf.placeholder(tf.float32,\n",
        "                                    shape=(batch_size, image_size * image_size))\n",
        "  tf_train_labels = tf.placeholder(tf.float32, shape=(batch_size, num_labels))\n",
        "  tf_valid_dataset = tf.constant(valid_dataset)\n",
        "  tf_test_dataset = tf.constant(test_dataset)\n",
        "  \n",
        "  # Variables.\n",
        "  weights = tf.Variable(\n",
        "    tf.truncated_normal([image_size * image_size, num_labels]))\n",
        "  biases = tf.Variable(tf.zeros([num_labels]))\n",
        "  \n",
        "  # Training computation.\n",
        "  logits = tf.matmul(tf_train_dataset, weights) + biases\n",
        "  loss = tf.reduce_mean(\n",
        "    tf.nn.softmax_cross_entropy_with_logits(labels=tf_train_labels, logits=logits))\n",
        "  \n",
        "  # Optimizer.\n",
        "  optimizer = tf.train.GradientDescentOptimizer(0.5).minimize(loss)\n",
        "  \n",
        "  # Predictions for the training, validation, and test data.\n",
        "  train_prediction = tf.nn.softmax(logits)\n",
        "  valid_prediction = tf.nn.softmax(\n",
        "    tf.matmul(tf_valid_dataset, weights) + biases)\n",
        "  test_prediction = tf.nn.softmax(tf.matmul(tf_test_dataset, weights) + biases)"
      ],
      "execution_count": 0,
      "outputs": []
    },
    {
      "metadata": {
        "id": "6Deen7brQCk7",
        "colab_type": "code",
        "colab": {
          "autoexec": {
            "startup": false,
            "wait_interval": 0
          },
          "output_extras": [
            {
              "item_id": 11
            }
          ],
          "base_uri": "https://localhost:8080/",
          "height": 799
        },
        "outputId": "8d7d3764-1a56-444d-f94f-e04fda11566d",
        "executionInfo": {
          "status": "ok",
          "timestamp": 1520654777524,
          "user_tz": 300,
          "elapsed": 16050,
          "user": {
            "displayName": "Adhish Thite",
            "photoUrl": "//lh5.googleusercontent.com/-Mrh4dvnXd5c/AAAAAAAAAAI/AAAAAAAAX2M/O-s14hFhqXA/s50-c-k-no/photo.jpg",
            "userId": "105913067845686448749"
          }
        }
      },
      "cell_type": "code",
      "source": [
        "num_steps = 10001\n",
        "\n",
        "with tf.Session(graph=graph) as session:\n",
        "  tf.global_variables_initializer().run()\n",
        "  print(\"Initialized\")\n",
        "  for step in range(num_steps):\n",
        "    # Pick an offset within the training data, which has been randomized.\n",
        "    # Note: we could use better randomization across epochs.\n",
        "    offset = (step * batch_size) % (train_labels.shape[0] - batch_size)\n",
        "    # Generate a minibatch.\n",
        "    batch_data = train_dataset[offset:(offset + batch_size), :]\n",
        "    batch_labels = train_labels[offset:(offset + batch_size), :]\n",
        "    # Prepare a dictionary telling the session where to feed the minibatch.\n",
        "    # The key of the dictionary is the placeholder node of the graph to be fed,\n",
        "    # and the value is the numpy array to feed to it.\n",
        "    feed_dict = {tf_train_dataset : batch_data, tf_train_labels : batch_labels}\n",
        "    _, l, predictions = session.run(\n",
        "      [optimizer, loss, train_prediction], feed_dict=feed_dict)\n",
        "    if (step % 1000 == 0):\n",
        "      print(\"\\nMinibatch loss at step %d: %f\" % (step, l))\n",
        "      print(\"Minibatch accuracy: %.1f%%\" % accuracy(predictions, batch_labels))\n",
        "      print(\"Validation accuracy: %.1f%%\" % accuracy(\n",
        "        valid_prediction.eval(), valid_labels))\n",
        "  print(\"Test accuracy: %.1f%%\" % accuracy(test_prediction.eval(), test_labels))"
      ],
      "execution_count": 7,
      "outputs": [
        {
          "output_type": "stream",
          "text": [
            "Initialized\n",
            "\n",
            "Minibatch loss at step 0: 20.784161\n",
            "Minibatch accuracy: 10.9%\n",
            "Validation accuracy: 13.5%\n",
            "\n",
            "Minibatch loss at step 1000: 1.772622\n",
            "Minibatch accuracy: 71.1%\n",
            "Validation accuracy: 76.5%\n",
            "\n",
            "Minibatch loss at step 2000: 1.129465\n",
            "Minibatch accuracy: 74.2%\n",
            "Validation accuracy: 77.4%\n",
            "\n",
            "Minibatch loss at step 3000: 1.001202\n",
            "Minibatch accuracy: 76.6%\n",
            "Validation accuracy: 78.0%\n",
            "\n",
            "Minibatch loss at step 4000: 0.982561\n",
            "Minibatch accuracy: 75.0%\n",
            "Validation accuracy: 79.4%\n",
            "\n",
            "Minibatch loss at step 5000: 1.087478\n",
            "Minibatch accuracy: 75.0%\n",
            "Validation accuracy: 79.7%\n",
            "\n",
            "Minibatch loss at step 6000: 0.930422\n",
            "Minibatch accuracy: 80.5%\n",
            "Validation accuracy: 79.5%\n",
            "\n",
            "Minibatch loss at step 7000: 0.793340\n",
            "Minibatch accuracy: 78.9%\n",
            "Validation accuracy: 81.0%\n",
            "\n",
            "Minibatch loss at step 8000: 0.734249\n",
            "Minibatch accuracy: 82.8%\n",
            "Validation accuracy: 81.0%\n",
            "\n",
            "Minibatch loss at step 9000: 0.785879\n",
            "Minibatch accuracy: 80.5%\n",
            "Validation accuracy: 79.7%\n",
            "\n",
            "Minibatch loss at step 10000: 0.855815\n",
            "Minibatch accuracy: 81.2%\n",
            "Validation accuracy: 80.5%\n",
            "Test accuracy: 87.1%\n"
          ],
          "name": "stdout"
        }
      ]
    },
    {
      "metadata": {
        "id": "rV1Q6uEmD-7a",
        "colab_type": "text"
      },
      "cell_type": "markdown",
      "source": [
        "### Problem\n",
        "\n",
        "Turn the logistic regression example with SGD into a 1-hidden layer neural network with rectified linear units nn.relu() and 1024 hidden nodes.\n",
        "\n",
        "This model should improve your validation / test accuracy."
      ]
    },
    {
      "metadata": {
        "id": "VVX3crBBQJbT",
        "colab_type": "code",
        "colab": {
          "autoexec": {
            "startup": false,
            "wait_interval": 0
          }
        }
      },
      "cell_type": "code",
      "source": [
        "batch_size = 128\n",
        "hidden_nodes = 1024\n",
        "\n",
        "graph = tf.Graph()\n",
        "with graph.as_default():\n",
        "\n",
        "  # Input data. For the training data, we use a placeholder that will be fed\n",
        "  # at run time with a training minibatch.\n",
        "  tf_train_dataset = tf.placeholder(tf.float32, shape=(batch_size, image_size * image_size))\n",
        "  tf_train_labels = tf.placeholder(tf.float32, shape=(batch_size, num_labels))\n",
        "  tf_valid_dataset = tf.constant(valid_dataset)\n",
        "  tf_test_dataset = tf.constant(test_dataset)\n",
        "    \n",
        "  # new hidden layer\n",
        "  hidden_weights = tf.Variable( tf.truncated_normal([image_size * image_size, hidden_nodes]) )\n",
        "  hidden_biases = tf.Variable( tf.zeros([hidden_nodes]))\n",
        "  hidden_layer = tf.nn.relu( tf.matmul( tf_train_dataset, hidden_weights) + hidden_biases)\n",
        "  \n",
        "  # Variables.\n",
        "  weights = tf.Variable( tf.truncated_normal([hidden_nodes, num_labels])) \n",
        "  biases = tf.Variable(tf.zeros([num_labels]))\n",
        "  \n",
        "  # Training computation.\n",
        "  logits = tf.matmul(hidden_layer, weights) + biases\n",
        "  loss = tf.reduce_mean( tf.nn.softmax_cross_entropy_with_logits(labels=tf_train_labels, logits=logits) )\n",
        "  \n",
        "  # Optimizer.\n",
        "  optimizer = tf.train.GradientDescentOptimizer(0.5).minimize(loss)\n",
        "  \n",
        "  # Predictions for the training, validation, and test data.\n",
        "  train_prediction = tf.nn.softmax(logits)\n",
        "  valid_relu = tf.nn.relu(  tf.matmul(tf_valid_dataset, hidden_weights) + hidden_biases)\n",
        "  valid_prediction = tf.nn.softmax( tf.matmul(valid_relu, weights) + biases) \n",
        "\n",
        "  test_relu = tf.nn.relu( tf.matmul( tf_test_dataset, hidden_weights) + hidden_biases)\n",
        "  test_prediction = tf.nn.softmax(tf.matmul(test_relu, weights) + biases)"
      ],
      "execution_count": 0,
      "outputs": []
    },
    {
      "metadata": {
        "id": "abuDDnERXCRi",
        "colab_type": "code",
        "colab": {
          "autoexec": {
            "startup": false,
            "wait_interval": 0
          },
          "output_extras": [
            {
              "item_id": 12
            }
          ],
          "base_uri": "https://localhost:8080/",
          "height": 887
        },
        "outputId": "eb609b65-945e-40e3-c2cb-a1fb31d7b005",
        "executionInfo": {
          "status": "ok",
          "timestamp": 1520654849316,
          "user_tz": 300,
          "elapsed": 71093,
          "user": {
            "displayName": "Adhish Thite",
            "photoUrl": "//lh5.googleusercontent.com/-Mrh4dvnXd5c/AAAAAAAAAAI/AAAAAAAAX2M/O-s14hFhqXA/s50-c-k-no/photo.jpg",
            "userId": "105913067845686448749"
          }
        }
      },
      "cell_type": "code",
      "source": [
        "num_steps = 30001\n",
        "\n",
        "with tf.Session(graph=graph) as session:\n",
        "  tf.initialize_all_variables().run()\n",
        "  print(\"Initialized\")\n",
        "  for step in range(num_steps):\n",
        "    # Pick an offset within the training data, which has been randomized.\n",
        "    # Note: we could use better randomization across epochs.\n",
        "    offset = (step * batch_size) % (train_labels.shape[0] - batch_size)\n",
        "    # Generate a minibatch.\n",
        "    batch_data = train_dataset[offset:(offset + batch_size), :]\n",
        "    batch_labels = train_labels[offset:(offset + batch_size), :]\n",
        "    # Prepare a dictionary telling the session where to feed the minibatch.\n",
        "    # The key of the dictionary is the placeholder node of the graph to be fed,\n",
        "    # and the value is the numpy array to feed to it.\n",
        "    feed_dict = {tf_train_dataset : batch_data, tf_train_labels : batch_labels}\n",
        "    _, l, predictions = session.run(\n",
        "      [optimizer, loss, train_prediction], feed_dict=feed_dict)\n",
        "    if (step % 3000 == 0):\n",
        "      print(\"\\nMinibatch loss at step %d: %f\" % (step, l))\n",
        "      print(\"Minibatch accuracy: %.1f%%\" % accuracy(predictions, batch_labels))\n",
        "      print(\"Validation accuracy: %.1f%%\" % accuracy(\n",
        "        valid_prediction.eval(), valid_labels))\n",
        "  print(\"\\nTest accuracy: %.1f%%\" % accuracy(test_prediction.eval(), test_labels))"
      ],
      "execution_count": 9,
      "outputs": [
        {
          "output_type": "stream",
          "text": [
            "WARNING:tensorflow:From /usr/local/lib/python3.6/dist-packages/tensorflow/python/util/tf_should_use.py:118: initialize_all_variables (from tensorflow.python.ops.variables) is deprecated and will be removed after 2017-03-02.\n",
            "Instructions for updating:\n",
            "Use `tf.global_variables_initializer` instead.\n",
            "Initialized\n",
            "\n",
            "Minibatch loss at step 0: 363.660461\n",
            "Minibatch accuracy: 10.2%\n",
            "Validation accuracy: 28.3%\n",
            "\n",
            "Minibatch loss at step 3000: 1.565908\n",
            "Minibatch accuracy: 85.9%\n",
            "Validation accuracy: 82.2%\n",
            "\n",
            "Minibatch loss at step 6000: 2.387774\n",
            "Minibatch accuracy: 85.2%\n",
            "Validation accuracy: 83.2%\n",
            "\n",
            "Minibatch loss at step 9000: 1.119007\n",
            "Minibatch accuracy: 89.8%\n",
            "Validation accuracy: 83.7%\n",
            "\n",
            "Minibatch loss at step 12000: 1.188025\n",
            "Minibatch accuracy: 89.8%\n",
            "Validation accuracy: 84.0%\n",
            "\n",
            "Minibatch loss at step 15000: 1.151641\n",
            "Minibatch accuracy: 89.1%\n",
            "Validation accuracy: 84.6%\n",
            "\n",
            "Minibatch loss at step 18000: 1.030849\n",
            "Minibatch accuracy: 93.0%\n",
            "Validation accuracy: 85.0%\n",
            "\n",
            "Minibatch loss at step 21000: 0.262488\n",
            "Minibatch accuracy: 90.6%\n",
            "Validation accuracy: 84.3%\n",
            "\n",
            "Minibatch loss at step 24000: 0.547504\n",
            "Minibatch accuracy: 94.5%\n",
            "Validation accuracy: 85.5%\n",
            "\n",
            "Minibatch loss at step 27000: 0.240442\n",
            "Minibatch accuracy: 94.5%\n",
            "Validation accuracy: 85.9%\n",
            "\n",
            "Minibatch loss at step 30000: 1.342497\n",
            "Minibatch accuracy: 92.2%\n",
            "Validation accuracy: 85.9%\n",
            "\n",
            "Test accuracy: 92.5%\n"
          ],
          "name": "stdout"
        }
      ]
    }
  ]
}